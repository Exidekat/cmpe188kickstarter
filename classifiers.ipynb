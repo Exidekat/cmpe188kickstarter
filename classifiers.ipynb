{
 "cells": [
  {
   "cell_type": "code",
   "id": "initial_id",
   "metadata": {
    "collapsed": true,
    "ExecuteTime": {
     "end_time": "2025-04-26T18:04:57.834109Z",
     "start_time": "2025-04-26T18:04:57.827949Z"
    }
   },
   "source": [
    "import numpy as np\n",
    "import pandas as pd\n",
    "import seaborn as sns\n",
    "import matplotlib.pyplot as plt\n",
    "\n",
    "from sklearn.ensemble import BaggingClassifier, RandomForestClassifier, AdaBoostClassifier\n",
    "from sklearn.feature_selection import RFE\n",
    "from sklearn.linear_model import LinearRegression\n",
    "from sklearn.metrics import accuracy_score\n",
    "from sklearn.model_selection import cross_val_score, train_test_split\n",
    "from sklearn.linear_model import Ridge\n",
    "from sklearn.tree import DecisionTreeClassifier\n",
    "from sklearn import tree\n",
    "\n",
    "\n",
    "SHOW_DECISION_TREES = False"
   ],
   "outputs": [],
   "execution_count": 195
  },
  {
   "metadata": {
    "ExecuteTime": {
     "end_time": "2025-04-26T18:04:58.643835Z",
     "start_time": "2025-04-26T18:04:57.840152Z"
    }
   },
   "cell_type": "code",
   "source": [
    "df = pd.read_csv(\"data/post_sentiment.csv\")\n",
    "#print(df['Unnamed: 0'])\n",
    "df.drop(columns=[\"Unnamed: 0\"], inplace=True)\n",
    "print(df.columns)"
   ],
   "id": "2a9e610aa6c99a83",
   "outputs": [
    {
     "name": "stdout",
     "output_type": "stream",
     "text": [
      "Index(['name', 'blurb', 'disable_communication', 'country', 'deadline',\n",
      "       'created_at', 'launched_at', 'staff_pick', 'backers_count',\n",
      "       'usd_pledged', 'spotlight', 'name_len', 'name_len_clean', 'blurb_len',\n",
      "       'blurb_len_clean', 'create_to_launch_days', 'launch_to_deadline_days',\n",
      "       'launch_to_state_change_days', 'SuccessfulBool', 'USorGB', 'TOPCOUNTRY',\n",
      "       'LaunchedTuesday', 'DeadlineWeekend', 'usd_goal', 'cat_Academic',\n",
      "       'cat_Apps', 'cat_Blues', 'cat_Comedy', 'cat_Experimental',\n",
      "       'cat_Festivals', 'cat_Flight', 'cat_Gadgets', 'cat_Hardware',\n",
      "       'cat_Immersive', 'cat_Makerspaces', 'cat_Misc', 'cat_Musical',\n",
      "       'cat_Places', 'cat_Plays', 'cat_Restaurants', 'cat_Robots',\n",
      "       'cat_Shorts', 'cat_Software', 'cat_Sound', 'cat_Spaces',\n",
      "       'cat_Thrillers', 'cat_Wearables', 'cat_Web', 'cat_Webseries',\n",
      "       'usd_goal (log)', 'sharktank_wonderful', 'sharktank_wonderful_eval',\n",
      "       'sharktank_daymond', 'sharktank_daymond_eval', 'sharktank_barbara',\n",
      "       'sharktank_barbara_eval', 'sharktank_mark', 'sharktank_mark_eval'],\n",
      "      dtype='object')\n"
     ]
    }
   ],
   "execution_count": 196
  },
  {
   "metadata": {
    "ExecuteTime": {
     "end_time": "2025-04-26T18:04:58.664014Z",
     "start_time": "2025-04-26T18:04:58.658784Z"
    }
   },
   "cell_type": "code",
   "source": [
    "label_col = 'SuccessfulBool'\n",
    "#numerical_data = df.select_dtypes(include=['number'])\n",
    "numerical_data = df.select_dtypes(include=['number', 'bool'])\n",
    "numerical_data.dropna(inplace=True)\n",
    "preX = numerical_data.drop(columns=[label_col])\n",
    "prey = numerical_data[label_col]"
   ],
   "id": "ea1e42a78100636e",
   "outputs": [],
   "execution_count": 197
  },
  {
   "metadata": {
    "ExecuteTime": {
     "end_time": "2025-04-26T18:05:14.092033Z",
     "start_time": "2025-04-26T18:04:58.677368Z"
    }
   },
   "cell_type": "code",
   "source": [
    "# Same feature importance method as before,\n",
    "# but now we're determining the ideal number of features for LR using RFE cross validation\n",
    "\n",
    "# Initialize the linear regression model\n",
    "model = LinearRegression()\n",
    "\n",
    "# Try different feature counts and evaluate model performance\n",
    "num_features = list(range(1, len(preX.columns) + 1))\n",
    "cv_scores = []\n",
    "\n",
    "for n in num_features:\n",
    "    # Perform Recursive Feature Elimination (RFE) with n selected features\n",
    "    rfe = RFE(model, n_features_to_select=n)\n",
    "    rfe.fit(preX, prey)  # Fit RFE to data\n",
    "\n",
    "    # Compute cross-validation score (Negative MSE for minimization)\n",
    "    score = np.mean(cross_val_score(model, rfe.transform(preX), prey, cv=5, scoring=\"neg_mean_squared_error\"))\n",
    "    cv_scores.append(-score)  # Convert back to positive MSE\n",
    "\n",
    "# Determine the optimal number of features\n",
    "optimal_num_features = num_features[np.argmin(cv_scores)]\n",
    "\n",
    "# Fit RFE with the optimal number of features\n",
    "rfe_optimal = RFE(model, n_features_to_select=optimal_num_features)\n",
    "rfe_optimal.fit(preX, prey)\n",
    "\n",
    "# Extract selected features\n",
    "optimal_features = list(preX.columns[rfe_optimal.support_])\n",
    "print(f\"Optimal number of features: {optimal_num_features}\")\n",
    "print(f\"Selected optimal features: {optimal_features}\")\n",
    "\n",
    "# Plot Number of Features vs. Validation Error\n",
    "plt.figure(figsize=(8, 6))\n",
    "plt.plot(num_features, cv_scores, marker=\"o\", linestyle=\"-\", color=\"b\")\n",
    "plt.axvline(optimal_num_features, color='r', linestyle=\"--\", label=f\"Optimal Features: {optimal_num_features}\")\n",
    "plt.xlabel(\"Number of Features\")\n",
    "plt.ylabel(\"Cross-Validated MSE\")\n",
    "plt.title(\"Determining the Optimal Number of Features for MLR\")\n",
    "plt.legend()\n",
    "plt.grid()\n",
    "plt.show()"
   ],
   "id": "4271c69e5f23fff2",
   "outputs": [
    {
     "name": "stdout",
     "output_type": "stream",
     "text": [
      "Optimal number of features: 2\n",
      "Selected optimal features: ['staff_pick', 'spotlight']\n"
     ]
    },
    {
     "data": {
      "text/plain": [
       "<Figure size 800x600 with 1 Axes>"
      ],
      "image/png": "[encoded data removed]"
     },
     "metadata": {},
     "output_type": "display_data"
    }
   ],
   "execution_count": 198
  },
  {
   "metadata": {
    "ExecuteTime": {
     "end_time": "2025-04-26T18:05:14.115503Z",
     "start_time": "2025-04-26T18:05:14.105273Z"
    }
   },
   "cell_type": "code",
   "source": [
    "# Split data randomly into train and validation sets, fit a model to the train set\n",
    "X_train, X_test, y_train, y_test = train_test_split(preX, prey, test_size=0.15, random_state=42, shuffle=True)\n",
    "\n",
    "# We'll use Ridge Regression (L2 Regularization)\n",
    "mlr = Ridge(alpha=1.0)  # Adjust alpha for more/less regularization (too lazy to automate hyperparameter tuning atm)\n",
    "mlr.fit(X_train, y_train)\n",
    "\n",
    "# Print model Coefficients\n",
    "mlr_coefficients = pd.Series(mlr.coef_, index=preX.columns)\n",
    "print(\"Model Coefficients:\")\n",
    "print(mlr_coefficients)"
   ],
   "id": "d60dd75561d19a9b",
   "outputs": [
    {
     "name": "stdout",
     "output_type": "stream",
     "text": [
      "Model Coefficients:\n",
      "disable_communication         -6.800767e-05\n",
      "staff_pick                     1.591671e-04\n",
      "backers_count                 -6.354540e-10\n",
      "usd_pledged                    3.271123e-10\n",
      "spotlight                      9.995801e-01\n",
      "name_len                       2.735616e-06\n",
      "name_len_clean                 4.100273e-06\n",
      "blurb_len                     -2.970192e-06\n",
      "blurb_len_clean                3.211698e-06\n",
      "create_to_launch_days          1.502112e-08\n",
      "launch_to_deadline_days       -2.968506e-06\n",
      "launch_to_state_change_days    2.657578e-06\n",
      "USorGB                         1.407153e-05\n",
      "TOPCOUNTRY                     2.879673e-06\n",
      "LaunchedTuesday                1.067556e-05\n",
      "DeadlineWeekend               -6.607834e-06\n",
      "usd_goal                       6.853289e-12\n",
      "cat_Academic                  -1.191472e-04\n",
      "cat_Apps                      -1.389909e-05\n",
      "cat_Blues                      1.220042e-04\n",
      "cat_Comedy                    -3.197932e-05\n",
      "cat_Experimental               4.845990e-05\n",
      "cat_Festivals                  8.515264e-05\n",
      "cat_Flight                    -4.547287e-05\n",
      "cat_Gadgets                   -5.138161e-06\n",
      "cat_Hardware                  -4.378958e-07\n",
      "cat_Immersive                  3.554723e-05\n",
      "cat_Makerspaces               -5.358916e-06\n",
      "cat_Misc                       6.154935e-06\n",
      "cat_Musical                    5.658670e-05\n",
      "cat_Places                    -1.499742e-04\n",
      "cat_Plays                      7.502695e-05\n",
      "cat_Restaurants                1.304667e-06\n",
      "cat_Robots                    -5.893988e-06\n",
      "cat_Shorts                     2.511818e-04\n",
      "cat_Software                  -5.860573e-05\n",
      "cat_Sound                      7.809670e-06\n",
      "cat_Spaces                     6.211084e-05\n",
      "cat_Thrillers                 -1.066289e-04\n",
      "cat_Wearables                 -6.200468e-06\n",
      "cat_Web                       -7.569809e-05\n",
      "cat_Webseries                 -1.269046e-04\n",
      "usd_goal (log)                -2.789891e-05\n",
      "sharktank_wonderful_eval       3.425168e-07\n",
      "sharktank_daymond_eval         9.495547e-07\n",
      "sharktank_barbara_eval         1.477530e-06\n",
      "sharktank_mark_eval            1.357104e-06\n",
      "dtype: float64\n"
     ]
    }
   ],
   "execution_count": 199
  },
  {
   "metadata": {
    "ExecuteTime": {
     "end_time": "2025-04-26T18:05:14.141657Z",
     "start_time": "2025-04-26T18:05:14.133950Z"
    }
   },
   "cell_type": "code",
   "source": [
    "def evaluate_classifiers(X, y):\n",
    "    # Model testing from Ensemble assignment\n",
    "    features = [x for x in X.columns]\n",
    "    print(f\"Features: {features}\")\n",
    "    X_train, X_test, y_train, y_test = train_test_split(X, y, test_size=0.20, shuffle=True)\n",
    "\n",
    "    best_acc = 0.0\n",
    "    best_clf = None\n",
    "\n",
    "    # 1) Standard Decision Tree\n",
    "    tree_clf = DecisionTreeClassifier(random_state=42)\n",
    "    tree_clf.fit(X_train, y_train)\n",
    "    y_pred_tree = tree_clf.predict(X_test)\n",
    "    acc_tree = accuracy_score(y_test, y_pred_tree)\n",
    "    print(f\"{label_col}: Standard DTR accuracy: {acc_tree}\")\n",
    "    if acc_tree > best_acc:\n",
    "        best_acc, best_clf = acc_tree, tree_clf\n",
    "\n",
    "    # 2) Bagging\n",
    "    bag_clf = BaggingClassifier(\n",
    "        DecisionTreeClassifier(random_state=42),\n",
    "        n_estimators=500,\n",
    "        max_samples=10,\n",
    "        bootstrap=True,\n",
    "        n_jobs=-1,\n",
    "        random_state=42\n",
    "    )\n",
    "    bag_clf.fit(X_train, y_train)\n",
    "    y_pred = bag_clf.predict(X_test)\n",
    "    acc = accuracy_score(y_test, y_pred)\n",
    "    print(f\"{label_col}: Bagging DTR accuracy: {acc}\")\n",
    "    if acc > best_acc:\n",
    "        best_acc, best_clf = acc, bag_clf\n",
    "\n",
    "    # 3) Random Forest (default)\n",
    "    rnd_clf = RandomForestClassifier(\n",
    "        n_estimators=500,\n",
    "        max_leaf_nodes=16,\n",
    "        n_jobs=-1,\n",
    "        random_state=42\n",
    "    )\n",
    "    rnd_clf.fit(X_train, y_train)\n",
    "    y_pred_rf = rnd_clf.predict(X_test)\n",
    "    acc_rf = accuracy_score(y_test, y_pred_rf)\n",
    "    print(f\"{label_col}: RFC accuracy: {acc_rf}\")\n",
    "    if acc_rf > best_acc:\n",
    "        best_acc, best_clf = acc_rf, rnd_clf\n",
    "\n",
    "    # 4) AdaBoost (default)\n",
    "    ada_clf = AdaBoostClassifier(\n",
    "        DecisionTreeClassifier(max_depth=1),\n",
    "        n_estimators=200,\n",
    "        learning_rate=0.5,\n",
    "        random_state=42\n",
    "    )\n",
    "    ada_clf.fit(X_train, y_train)\n",
    "    y_pred_ada = ada_clf.predict(X_test)\n",
    "    acc_ada = accuracy_score(y_test, y_pred_ada)\n",
    "    print(f\"{label_col}: Adaboost accuracy: {acc_ada}\")\n",
    "    if acc_ada > best_acc:\n",
    "        best_acc, best_clf = acc_ada, ada_clf\n",
    "\n",
    "    # 5) RFC with varying max_depth\n",
    "    for d in range(2, 8):\n",
    "        clf = RandomForestClassifier(\n",
    "            n_estimators=500,\n",
    "            max_depth=d,\n",
    "            n_jobs=-1,\n",
    "            random_state=42\n",
    "        )\n",
    "        clf.fit(X_train, y_train)\n",
    "        y_pred = clf.predict(X_test)\n",
    "        acc_d = accuracy_score(y_test, y_pred)\n",
    "        print(f\"{label_col}: New RFC, depth {d} accuracy: {acc_d}\")\n",
    "        if acc_d > best_acc:\n",
    "            best_acc, best_clf = acc_d, clf\n",
    "\n",
    "    # 6) AdaBoost with varying learning rates\n",
    "    ada_lrs = [0.00005, 0.0001, 0.0005, 0.001, 0.005, 0.01, 0.05, 0.1, 0.5]\n",
    "    for lr in ada_lrs:\n",
    "        clf = AdaBoostClassifier(\n",
    "            DecisionTreeClassifier(max_depth=1),\n",
    "            n_estimators=200,\n",
    "            learning_rate=lr,\n",
    "            random_state=42\n",
    "        )\n",
    "        clf.fit(X_train, y_train)\n",
    "        y_pred = clf.predict(X_test)\n",
    "        acc_lr = accuracy_score(y_test, y_pred)\n",
    "        print(f\"{label_col}: New Adaboost, LR {lr} accuracy: {acc_lr}\")\n",
    "        if acc_lr > best_acc:\n",
    "            best_acc, best_clf = acc_lr, clf\n",
    "\n",
    "    print(f\"\\nBest model: {best_clf.__class__.__name__} with accuracy {best_acc:.4f}\")\n",
    "    return features, best_clf"
   ],
   "id": "3aa4dd71c798c5fa",
   "outputs": [],
   "execution_count": 200
  },
  {
   "metadata": {
    "ExecuteTime": {
     "end_time": "2025-04-26T18:05:19.755850Z",
     "start_time": "2025-04-26T18:05:14.161144Z"
    }
   },
   "cell_type": "code",
   "source": [
    "# Evaluating classifiers with NO restraints on data (ie. providing backer counts & pledges)\n",
    "features, best_model = evaluate_classifiers(preX, prey)"
   ],
   "id": "8d526cb3a1ab14f5",
   "outputs": [
    {
     "name": "stdout",
     "output_type": "stream",
     "text": [
      "Features: ['disable_communication', 'staff_pick', 'backers_count', 'usd_pledged', 'spotlight', 'name_len', 'name_len_clean', 'blurb_len', 'blurb_len_clean', 'create_to_launch_days', 'launch_to_deadline_days', 'launch_to_state_change_days', 'USorGB', 'TOPCOUNTRY', 'LaunchedTuesday', 'DeadlineWeekend', 'usd_goal', 'cat_Academic', 'cat_Apps', 'cat_Blues', 'cat_Comedy', 'cat_Experimental', 'cat_Festivals', 'cat_Flight', 'cat_Gadgets', 'cat_Hardware', 'cat_Immersive', 'cat_Makerspaces', 'cat_Misc', 'cat_Musical', 'cat_Places', 'cat_Plays', 'cat_Restaurants', 'cat_Robots', 'cat_Shorts', 'cat_Software', 'cat_Sound', 'cat_Spaces', 'cat_Thrillers', 'cat_Wearables', 'cat_Web', 'cat_Webseries', 'usd_goal (log)', 'sharktank_wonderful_eval', 'sharktank_daymond_eval', 'sharktank_barbara_eval', 'sharktank_mark_eval']\n",
      "SuccessfulBool: Standard DTR accuracy: 1.0\n",
      "SuccessfulBool: Bagging DTR accuracy: 1.0\n",
      "SuccessfulBool: RFC accuracy: 1.0\n",
      "SuccessfulBool: Adaboost accuracy: 1.0\n",
      "SuccessfulBool: New RFC, depth 2 accuracy: 0.9755210857973825\n",
      "SuccessfulBool: New RFC, depth 3 accuracy: 1.0\n",
      "SuccessfulBool: New RFC, depth 4 accuracy: 1.0\n",
      "SuccessfulBool: New RFC, depth 5 accuracy: 1.0\n",
      "SuccessfulBool: New RFC, depth 6 accuracy: 1.0\n",
      "SuccessfulBool: New RFC, depth 7 accuracy: 1.0\n",
      "SuccessfulBool: New Adaboost, LR 5e-05 accuracy: 1.0\n",
      "SuccessfulBool: New Adaboost, LR 0.0001 accuracy: 1.0\n",
      "SuccessfulBool: New Adaboost, LR 0.0005 accuracy: 1.0\n",
      "SuccessfulBool: New Adaboost, LR 0.001 accuracy: 1.0\n",
      "SuccessfulBool: New Adaboost, LR 0.005 accuracy: 1.0\n",
      "SuccessfulBool: New Adaboost, LR 0.01 accuracy: 1.0\n",
      "SuccessfulBool: New Adaboost, LR 0.05 accuracy: 1.0\n",
      "SuccessfulBool: New Adaboost, LR 0.1 accuracy: 1.0\n",
      "SuccessfulBool: New Adaboost, LR 0.5 accuracy: 1.0\n",
      "\n",
      "Best model: DecisionTreeClassifier with accuracy 1.0000\n"
     ]
    }
   ],
   "execution_count": 201
  },
  {
   "metadata": {
    "ExecuteTime": {
     "end_time": "2025-04-26T18:05:23.459609Z",
     "start_time": "2025-04-26T18:05:19.768912Z"
    }
   },
   "cell_type": "code",
   "source": [
    "# Evaluating classifiers WITHOUT backers counts & pledge information\n",
    "inaccesible_cols = ['backers_count', 'usd_pledged']\n",
    "features, best_model = evaluate_classifiers(preX.drop(columns=inaccesible_cols), prey)"
   ],
   "id": "9a72e04f0fd94c7f",
   "outputs": [
    {
     "name": "stdout",
     "output_type": "stream",
     "text": [
      "Features: ['disable_communication', 'staff_pick', 'spotlight', 'name_len', 'name_len_clean', 'blurb_len', 'blurb_len_clean', 'create_to_launch_days', 'launch_to_deadline_days', 'launch_to_state_change_days', 'USorGB', 'TOPCOUNTRY', 'LaunchedTuesday', 'DeadlineWeekend', 'usd_goal', 'cat_Academic', 'cat_Apps', 'cat_Blues', 'cat_Comedy', 'cat_Experimental', 'cat_Festivals', 'cat_Flight', 'cat_Gadgets', 'cat_Hardware', 'cat_Immersive', 'cat_Makerspaces', 'cat_Misc', 'cat_Musical', 'cat_Places', 'cat_Plays', 'cat_Restaurants', 'cat_Robots', 'cat_Shorts', 'cat_Software', 'cat_Sound', 'cat_Spaces', 'cat_Thrillers', 'cat_Wearables', 'cat_Web', 'cat_Webseries', 'usd_goal (log)', 'sharktank_wonderful_eval', 'sharktank_daymond_eval', 'sharktank_barbara_eval', 'sharktank_mark_eval']\n",
      "SuccessfulBool: Standard DTR accuracy: 1.0\n",
      "SuccessfulBool: Bagging DTR accuracy: 1.0\n",
      "SuccessfulBool: RFC accuracy: 1.0\n",
      "SuccessfulBool: Adaboost accuracy: 1.0\n",
      "SuccessfulBool: New RFC, depth 2 accuracy: 0.8487639360155114\n",
      "SuccessfulBool: New RFC, depth 3 accuracy: 0.9835191468734852\n",
      "SuccessfulBool: New RFC, depth 4 accuracy: 0.9997576345128454\n",
      "SuccessfulBool: New RFC, depth 5 accuracy: 1.0\n",
      "SuccessfulBool: New RFC, depth 6 accuracy: 1.0\n",
      "SuccessfulBool: New RFC, depth 7 accuracy: 1.0\n",
      "SuccessfulBool: New Adaboost, LR 5e-05 accuracy: 1.0\n",
      "SuccessfulBool: New Adaboost, LR 0.0001 accuracy: 1.0\n",
      "SuccessfulBool: New Adaboost, LR 0.0005 accuracy: 1.0\n",
      "SuccessfulBool: New Adaboost, LR 0.001 accuracy: 1.0\n",
      "SuccessfulBool: New Adaboost, LR 0.005 accuracy: 1.0\n",
      "SuccessfulBool: New Adaboost, LR 0.01 accuracy: 1.0\n",
      "SuccessfulBool: New Adaboost, LR 0.05 accuracy: 1.0\n",
      "SuccessfulBool: New Adaboost, LR 0.1 accuracy: 1.0\n",
      "SuccessfulBool: New Adaboost, LR 0.5 accuracy: 1.0\n",
      "\n",
      "Best model: DecisionTreeClassifier with accuracy 1.0000\n"
     ]
    }
   ],
   "execution_count": 202
  },
  {
   "metadata": {
    "ExecuteTime": {
     "end_time": "2025-04-26T18:05:42.164553Z",
     "start_time": "2025-04-26T18:05:23.472602Z"
    }
   },
   "cell_type": "code",
   "source": [
    "# Evaluating classifiers WITHOUT backers counts & pledge information, and kickstarter mod information\n",
    "inaccesible_cols = ['backers_count', 'usd_pledged', 'spotlight', 'staff_pick']\n",
    "features, best_model = evaluate_classifiers(preX.drop(columns=inaccesible_cols), prey)"
   ],
   "id": "d433c8e44553edfa",
   "outputs": [
    {
     "name": "stdout",
     "output_type": "stream",
     "text": [
      "Features: ['disable_communication', 'name_len', 'name_len_clean', 'blurb_len', 'blurb_len_clean', 'create_to_launch_days', 'launch_to_deadline_days', 'launch_to_state_change_days', 'USorGB', 'TOPCOUNTRY', 'LaunchedTuesday', 'DeadlineWeekend', 'usd_goal', 'cat_Academic', 'cat_Apps', 'cat_Blues', 'cat_Comedy', 'cat_Experimental', 'cat_Festivals', 'cat_Flight', 'cat_Gadgets', 'cat_Hardware', 'cat_Immersive', 'cat_Makerspaces', 'cat_Misc', 'cat_Musical', 'cat_Places', 'cat_Plays', 'cat_Restaurants', 'cat_Robots', 'cat_Shorts', 'cat_Software', 'cat_Sound', 'cat_Spaces', 'cat_Thrillers', 'cat_Wearables', 'cat_Web', 'cat_Webseries', 'usd_goal (log)', 'sharktank_wonderful_eval', 'sharktank_daymond_eval', 'sharktank_barbara_eval', 'sharktank_mark_eval']\n",
      "SuccessfulBool: Standard DTR accuracy: 0.6980126030053321\n",
      "SuccessfulBool: Bagging DTR accuracy: 0.7045564711585071\n",
      "SuccessfulBool: RFC accuracy: 0.7447891420261755\n",
      "SuccessfulBool: Adaboost accuracy: 0.7416383906931653\n",
      "SuccessfulBool: New RFC, depth 2 accuracy: 0.7045564711585071\n",
      "SuccessfulBool: New RFC, depth 3 accuracy: 0.7050412021328163\n",
      "SuccessfulBool: New RFC, depth 4 accuracy: 0.7152205525933107\n",
      "SuccessfulBool: New RFC, depth 5 accuracy: 0.7275811924381969\n",
      "SuccessfulBool: New RFC, depth 6 accuracy: 0.7440620455647116\n",
      "SuccessfulBool: New RFC, depth 7 accuracy: 0.7491517207949588\n",
      "SuccessfulBool: New Adaboost, LR 5e-05 accuracy: 0.7045564711585071\n",
      "SuccessfulBool: New Adaboost, LR 0.0001 accuracy: 0.7045564711585071\n",
      "SuccessfulBool: New Adaboost, LR 0.0005 accuracy: 0.7045564711585071\n",
      "SuccessfulBool: New Adaboost, LR 0.001 accuracy: 0.7045564711585071\n",
      "SuccessfulBool: New Adaboost, LR 0.005 accuracy: 0.7045564711585071\n",
      "SuccessfulBool: New Adaboost, LR 0.01 accuracy: 0.7045564711585071\n",
      "SuccessfulBool: New Adaboost, LR 0.05 accuracy: 0.7045564711585071\n",
      "SuccessfulBool: New Adaboost, LR 0.1 accuracy: 0.7045564711585071\n",
      "SuccessfulBool: New Adaboost, LR 0.5 accuracy: 0.7416383906931653\n",
      "\n",
      "Best model: RandomForestClassifier with accuracy 0.7492\n"
     ]
    }
   ],
   "execution_count": 203
  },
  {
   "metadata": {
    "ExecuteTime": {
     "end_time": "2025-04-26T18:05:42.178782Z",
     "start_time": "2025-04-26T18:05:42.177033Z"
    }
   },
   "cell_type": "code",
   "source": [
    "print(best_model)\n",
    "print(features)"
   ],
   "id": "1353365810535118",
   "outputs": [
    {
     "name": "stdout",
     "output_type": "stream",
     "text": [
      "RandomForestClassifier(max_depth=7, n_estimators=500, n_jobs=-1,\n",
      "                       random_state=42)\n",
      "['disable_communication', 'name_len', 'name_len_clean', 'blurb_len', 'blurb_len_clean', 'create_to_launch_days', 'launch_to_deadline_days', 'launch_to_state_change_days', 'USorGB', 'TOPCOUNTRY', 'LaunchedTuesday', 'DeadlineWeekend', 'usd_goal', 'cat_Academic', 'cat_Apps', 'cat_Blues', 'cat_Comedy', 'cat_Experimental', 'cat_Festivals', 'cat_Flight', 'cat_Gadgets', 'cat_Hardware', 'cat_Immersive', 'cat_Makerspaces', 'cat_Misc', 'cat_Musical', 'cat_Places', 'cat_Plays', 'cat_Restaurants', 'cat_Robots', 'cat_Shorts', 'cat_Software', 'cat_Sound', 'cat_Spaces', 'cat_Thrillers', 'cat_Wearables', 'cat_Web', 'cat_Webseries', 'usd_goal (log)', 'sharktank_wonderful_eval', 'sharktank_daymond_eval', 'sharktank_barbara_eval', 'sharktank_mark_eval']\n"
     ]
    }
   ],
   "execution_count": 204
  },
  {
   "metadata": {
    "ExecuteTime": {
     "end_time": "2025-04-26T18:05:42.261460Z",
     "start_time": "2025-04-26T18:05:42.191278Z"
    }
   },
   "cell_type": "code",
   "source": [
    "y_pred = best_model.predict(preX[features])\n",
    "acc = accuracy_score(prey, y_pred)\n",
    "print(f\"Accuracy: {acc}\")"
   ],
   "id": "83b4fcda2f5af2d6",
   "outputs": [
    {
     "name": "stdout",
     "output_type": "stream",
     "text": [
      "Accuracy: 0.7634653609346972\n"
     ]
    }
   ],
   "execution_count": 205
  },
  {
   "metadata": {
    "ExecuteTime": {
     "end_time": "2025-04-26T18:05:42.275786Z",
     "start_time": "2025-04-26T18:05:42.274235Z"
    }
   },
   "cell_type": "code",
   "source": [
    "if isinstance(best_model, DecisionTreeClassifier):\n",
    "    plt.figure(figsize=(200, 100))\n",
    "    tree.plot_tree(best_model, feature_names=features, filled=True)\n",
    "    plt.show()"
   ],
   "id": "2a19fdf1ddea9874",
   "outputs": [],
   "execution_count": 206
  },
  {
   "metadata": {
    "ExecuteTime": {
     "end_time": "2025-04-26T18:05:42.288435Z",
     "start_time": "2025-04-26T18:05:42.287310Z"
    }
   },
   "cell_type": "code",
   "source": "",
   "id": "d134a51539a3abe",
   "outputs": [],
   "execution_count": null
  }
 ],
 "metadata": {
  "kernelspec": {
   "display_name": "Python 3",
   "language": "python",
   "name": "python3"
  },
  "language_info": {
   "codemirror_mode": {
    "name": "ipython",
    "version": 2
   },
   "file_extension": ".py",
   "mimetype": "text/x-python",
   "name": "python",
   "nbconvert_exporter": "python",
   "pygments_lexer": "ipython2",
   "version": "2.7.6"
  }
 },
 "nbformat": 4,
 "nbformat_minor": 5
}
