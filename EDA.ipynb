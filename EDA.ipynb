{
 "cells": [
  {
   "metadata": {},
   "cell_type": "markdown",
   "source": "Haydon's EDA notebook. Viewer discretion advised.",
   "id": "8a77807f92f26ee"
  },
  {
   "metadata": {},
   "cell_type": "code",
   "source": [
    "import numpy as np\n",
    "import pandas as pd\n",
    "import seaborn as sns\n",
    "import matplotlib.pyplot as plt\n",
    "\n",
    "SHOW_DECISION_TREES = False\n"
   ],
   "id": "fbc121e30a2defb3",
   "outputs": [],
   "execution_count": null
  },
  {
   "metadata": {},
   "cell_type": "code",
   "source": [
    "df = pd.read_csv(\"data/kickstarter_data_full.csv\", low_memory=False)\n",
    "df.head()"
   ],
   "id": "24615e78fe8d4feb",
   "outputs": [],
   "execution_count": null
  },
  {
   "metadata": {},
   "cell_type": "code",
   "source": [
    "# drop certain useless columns\n",
    "useless_cols = [\"Unnamed: 0\", \"id\", \"photo\", \"slug\", \"currency_symbol\", \"currency_trailing_code\", # truly worthless columns\n",
    "                \"state_changed_at\", \"creator\", \"location\", \"profile\", \"urls\", \"source_url\", # may need processing to extract information, currently a hindrance\n",
    "                \"friends\", \"is_starred\", \"is_backing\", \"permissions\", # absolutely no idea what these are, but lots of NaN\n",
    "                \"create_to_launch\", \"launch_to_deadline\", \"launch_to_state_change\", # These are already converted to int_days for our convenience\n",
    "                \"deadline_weekday\", \"state_changed_at_weekday\", \"created_at_weekday\", \"launched_at_weekday\", # might encode later, likely no information\n",
    "                \"deadline_month\", \"deadline_day\", \"deadline_yr\", \"deadline_hr\", \"state_changed_at_month\", # encodings that nobody asked for\n",
    "                \"state_changed_at_day\", \"state_changed_at_yr\", \"state_changed_at_hr\", \"created_at_month\", # encodings that nobody asked for pt.2\n",
    "                \"created_at_day\", \"created_at_yr\", \"created_at_hr\", \"launched_at_month\", \"launched_at_day\", # encodings that nobody asked for pt.3\n",
    "                \"launched_at_yr\", \"launched_at_hr\"]\n",
    "df.drop(useless_cols, axis=1, inplace=True)\n",
    "df.head()"
   ],
   "id": "ff7e74198a77af70",
   "outputs": [],
   "execution_count": null
  },
  {
   "metadata": {},
   "cell_type": "code",
   "source": [
    "# Convert all currencies to USD.\n",
    "df[df['currency']!=\"USD\"].head()\n",
    "df['usd_goal'] = df['goal'] * df['static_usd_rate']\n",
    "df[df['currency']!=\"USD\"].head()"
   ],
   "id": "9e0fe318833b3eb4",
   "outputs": [],
   "execution_count": null
  },
  {
   "metadata": {},
   "cell_type": "code",
   "source": [
    "# more useless columns ()\n",
    "useless_cols = ['goal', 'pledged', 'static_usd_rate', 'currency', # useless now that we've standardized USD\n",
    "                'state' # not our target! it is 'SuccessfulBool'\n",
    "                ]\n",
    "df.drop(useless_cols, axis=1, inplace=True)\n",
    "df.head()"
   ],
   "id": "b30c8b1cce430e68",
   "outputs": [],
   "execution_count": null
  },
  {
   "metadata": {},
   "cell_type": "code",
   "source": [
    "# Curious what categories we have (I just KNOW that music will be the least successful cat)\n",
    "print(df[\"category\"].unique())\n",
    "# Filling the NaNs with \"Misc\"\n",
    "df[\"category\"] = df[\"category\"].fillna(value=\"Misc\")\n",
    "#print(df[\"category\"].unique())\n",
    "\n",
    "# One-hot encode \"categry\"\n",
    "category_dummies = pd.get_dummies(df['category'], prefix='cat')\n",
    "# Add the one-hot encoded columns and drop the original\n",
    "df = pd.concat([df, category_dummies], axis=1)\n",
    "df.drop(columns=['category'], inplace=True)"
   ],
   "id": "4b55539f0728e3ff",
   "outputs": [],
   "execution_count": null
  },
  {
   "metadata": {},
   "cell_type": "code",
   "source": [
    "# Log Transform on the usd goal\n",
    "col = 'usd_goal'\n",
    "\n",
    "# interpolating the missing raised values with the median before log transform\n",
    "median_raised = df[col].median()\n",
    "def safe_log(x):\n",
    "    if x == 0:\n",
    "        x = median_raised\n",
    "    return np.log(x)\n",
    "\n",
    "# Apply safe log transformation\n",
    "df[col + ' (log)'] = df[col].apply(safe_log)\n",
    "\n",
    "plt.figure(figsize=(8, 5))\n",
    "sns.histplot(df[col + ' (log)'], bins=20, kde=True)\n",
    "plt.title(f\"Distribution of {col + ' (log)'}\")\n",
    "plt.xlabel(col + ' (log)')\n",
    "plt.ylabel(\"Frequency\")\n",
    "plt.tight_layout()\n",
    "plt.show()"
   ],
   "id": "e586c76a8e02833f",
   "outputs": [],
   "execution_count": null
  },
  {
   "metadata": {},
   "cell_type": "code",
   "source": [
    "# Save post EDA data\n",
    "print(df.columns)\n",
    "df = df.sample(frac=1).reset_index(drop=True) # shuffle!\n",
    "df.to_csv(\"data/post_eda.csv\")"
   ],
   "id": "682db15982da9c2a",
   "outputs": [],
   "execution_count": null
  },
  {
   "metadata": {},
   "cell_type": "code",
   "source": "",
   "id": "7cfd597d5279cb3d",
   "outputs": [],
   "execution_count": null
  }
 ],
 "metadata": {
  "kernelspec": {
   "display_name": "Python 3",
   "language": "python",
   "name": "python3"
  },
  "language_info": {
   "codemirror_mode": {
    "name": "ipython",
    "version": 2
   },
   "file_extension": ".py",
   "mimetype": "text/x-python",
   "name": "python",
   "nbconvert_exporter": "python",
   "pygments_lexer": "ipython2",
   "version": "2.7.6"
  }
 },
 "nbformat": 4,
 "nbformat_minor": 5
}
