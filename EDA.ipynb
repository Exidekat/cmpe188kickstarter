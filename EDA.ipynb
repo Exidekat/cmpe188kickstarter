{
 "cells": [
  {
   "cell_type": "markdown",
   "id": "0",
   "metadata": {},
   "source": [
    "Haydon's EDA notebook. Viewer discretion advised."
   ]
  },
  {
   "cell_type": "code",
   "execution_count": null,
   "id": "1",
   "metadata": {},
   "outputs": [],
   "source": [
    "import numpy as np\n",
    "import pandas as pd\n",
    "import seaborn as sns\n",
    "import matplotlib.pyplot as plt\n",
    "from sklearn.ensemble import BaggingClassifier, RandomForestClassifier, AdaBoostClassifier\n",
    "\n",
    "from sklearn.feature_selection import RFE\n",
    "from sklearn.linear_model import LinearRegression\n",
    "from sklearn.metrics import accuracy_score\n",
    "from sklearn.model_selection import cross_val_score, train_test_split\n",
    "from sklearn.linear_model import Ridge\n",
    "from sklearn.tree import DecisionTreeClassifier\n",
    "\n",
    "SHOW_DECISION_TREES = False\n"
   ]
  },
  {
   "cell_type": "code",
   "execution_count": null,
   "id": "2",
   "metadata": {},
   "outputs": [],
   "source": [
    "df = pd.read_csv(\"data/kickstarter_data_full.csv\", low_memory=False)\n",
    "df.head()"
   ]
  },
  {
   "cell_type": "code",
   "execution_count": null,
   "id": "3",
   "metadata": {},
   "outputs": [],
   "source": [
    "# drop certain useless columns\n",
    "useless_cols = [\"Unnamed: 0\", \"id\", \"photo\", \"slug\", \"currency_symbol\", \"currency_trailing_code\", # truly worthless columns\n",
    "                \"state_changed_at\", \"creator\", \"location\", \"profile\", \"urls\", \"source_url\", # may need processing to extract information, currently a hindrance\n",
    "                \"friends\", \"is_starred\", \"is_backing\", \"permissions\", # absolutely no idea what these are, but lots of NaN\n",
    "                \"create_to_launch\", \"launch_to_deadline\", \"launch_to_state_change\", # These are already converted to int_days for our convenience\n",
    "                \"deadline_weekday\", \"state_changed_at_weekday\", \"created_at_weekday\", \"launched_at_weekday\", # might encode later, likely no information\n",
    "                \"deadline_month\", \"deadline_day\", \"deadline_yr\", \"deadline_hr\", \"state_changed_at_month\", # encodings that nobody asked for\n",
    "                \"state_changed_at_day\", \"state_changed_at_yr\", \"state_changed_at_hr\", \"created_at_month\", # encodings that nobody asked for pt.2\n",
    "                \"created_at_day\", \"created_at_yr\", \"created_at_hr\", \"launched_at_month\", \"launched_at_day\", # encodings that nobody asked for pt.3\n",
    "                \"launched_at_yr\", \"launched_at_hr\"]\n",
    "df.drop(useless_cols, axis=1, inplace=True)\n",
    "df.head()"
   ]
  },
  {
   "cell_type": "code",
   "execution_count": null,
   "id": "4",
   "metadata": {},
   "outputs": [],
   "source": [
    "# Convert all currencies to USD.\n",
    "df[df['currency']!=\"USD\"].head()\n",
    "df['usd_goal'] = df['goal'] * df['static_usd_rate']\n",
    "df[df['currency']!=\"USD\"].head()"
   ]
  },
  {
   "cell_type": "code",
   "execution_count": null,
   "id": "5",
   "metadata": {},
   "outputs": [],
   "source": [
    "# more useless columns ()\n",
    "useless_cols = ['goal', 'pledged', 'static_usd_rate', 'currency', # useless now that we've standardized USD\n",
    "                'state' # not our target! it is 'SuccessfulBool'\n",
    "                ]\n",
    "df.drop(useless_cols, axis=1, inplace=True)\n",
    "df.head()"
   ]
  },
  {
   "cell_type": "code",
   "execution_count": null,
   "id": "6",
   "metadata": {},
   "outputs": [],
   "source": [
    "# Curious what categories we have (I just KNOW that music will be the least successful cat)\n",
    "print(df[\"category\"].unique())\n",
    "# Filling the NaNs with \"Misc\"\n",
    "df[\"category\"] = df[\"category\"].fillna(value=\"Misc\")\n",
    "#print(df[\"category\"].unique())\n",
    "\n",
    "# One-hot encode \"categry\"\n",
    "category_dummies = pd.get_dummies(df['category'], prefix='cat')\n",
    "# Add the one-hot encoded columns and drop the original\n",
    "df = pd.concat([df, category_dummies], axis=1)\n",
    "df.drop(columns=['category'], inplace=True)"
   ]
  },
  {
   "cell_type": "code",
   "execution_count": null,
   "id": "7",
   "metadata": {},
   "outputs": [],
   "source": [
    "numerical_data = df.select_dtypes(include='number').dropna()\n",
    "print(numerical_data.columns)"
   ]
  },
  {
   "cell_type": "code",
   "execution_count": null,
   "id": "8",
   "metadata": {},
   "outputs": [],
   "source": [
    "label_col = 'SuccessfulBool'\n",
    "X = numerical_data.drop(columns=[label_col])\n",
    "y = numerical_data[label_col]"
   ]
  },
  {
   "cell_type": "code",
   "execution_count": null,
   "id": "9",
   "metadata": {},
   "outputs": [],
   "source": [
    "# Same feature importance method as before,\n",
    "# but now we're determining the ideal number of features for LR using RFE cross validation\n",
    "\n",
    "# Initialize the linear regression model\n",
    "model = LinearRegression()\n",
    "\n",
    "# Try different feature counts and evaluate model performance\n",
    "num_features = list(range(1, len(X.columns) + 1))\n",
    "cv_scores = []\n",
    "\n",
    "for n in num_features:\n",
    "    # Perform Recursive Feature Elimination (RFE) with n selected features\n",
    "    rfe = RFE(model, n_features_to_select=n)\n",
    "    rfe.fit(X, y)  # Fit RFE to data\n",
    "\n",
    "    # Compute cross-validation score (Negative MSE for minimization)\n",
    "    score = np.mean(cross_val_score(model, rfe.transform(X), y, cv=5, scoring=\"neg_mean_squared_error\"))\n",
    "    cv_scores.append(-score)  # Convert back to positive MSE\n",
    "\n",
    "# Determine the optimal number of features\n",
    "optimal_num_features = num_features[np.argmin(cv_scores)]\n",
    "\n",
    "# Fit RFE with the optimal number of features\n",
    "rfe_optimal = RFE(model, n_features_to_select=optimal_num_features)\n",
    "rfe_optimal.fit(X, y)\n",
    "\n",
    "# Extract selected features\n",
    "optimal_features = list(X.columns[rfe_optimal.support_])\n",
    "print(f\"Optimal number of features: {optimal_num_features}\")\n",
    "print(f\"Selected optimal features: {optimal_features}\")\n",
    "\n",
    "# Plot Number of Features vs. Validation Error\n",
    "plt.figure(figsize=(8, 6))\n",
    "plt.plot(num_features, cv_scores, marker=\"o\", linestyle=\"-\", color=\"b\")\n",
    "plt.axvline(optimal_num_features, color='r', linestyle=\"--\", label=f\"Optimal Features: {optimal_num_features}\")\n",
    "plt.xlabel(\"Number of Features\")\n",
    "plt.ylabel(\"Cross-Validated MSE\")\n",
    "plt.title(\"Determining the Optimal Number of Features for MLR\")\n",
    "plt.legend()\n",
    "plt.grid()\n",
    "plt.show()"
   ]
  },
  {
   "cell_type": "code",
   "execution_count": null,
   "id": "10",
   "metadata": {},
   "outputs": [],
   "source": [
    "# Split data randomly into train and validation sets, fit a model to the train set\n",
    "X_train, X_test, y_train, y_test = train_test_split(X, y, test_size=0.15, random_state=42)\n",
    "\n",
    "# We'll use Ridge Regression (L2 Regularization)\n",
    "mlr = Ridge(alpha=1.0)  # Adjust alpha for more/less regularization (too lazy to automate hyperparameter tuning atm)\n",
    "mlr.fit(X_train, y_train)\n",
    "\n",
    "# Print model Coefficients\n",
    "mlr_coefficients = pd.Series(mlr.coef_, index=X.columns)\n",
    "print(\"Model Coefficients:\")\n",
    "print(mlr_coefficients)"
   ]
  },
  {
   "cell_type": "code",
   "execution_count": null,
   "id": "11",
   "metadata": {},
   "outputs": [],
   "source": [
    "def evaluate_classifiers(X, y):\n",
    "    # Model testing from Ensemble assignment\n",
    "    X_train, X_test, y_train, y_test = train_test_split(X, y, test_size=0.20)\n",
    "\n",
    "    # Bagging ensembles\n",
    "    bag_clf = BaggingClassifier(\n",
    "        DecisionTreeClassifier(random_state=42), n_estimators=500,\n",
    "        max_samples=10, bootstrap=True, n_jobs=-1, random_state=42)\n",
    "    bag_clf.fit(X_train, y_train)\n",
    "    y_pred = bag_clf.predict(X_test)\n",
    "\n",
    "    # determine accuracy score for the bagging method\n",
    "    print(f\"{label_col}: Bagging DTR accuracy: {accuracy_score(y_test, y_pred)}\")\n",
    "\n",
    "    # now use a standard decision tree classifier\n",
    "    tree_clf = DecisionTreeClassifier(random_state=42)\n",
    "    tree_clf.fit(X_train, y_train)\n",
    "    y_pred_tree = tree_clf.predict(X_test)\n",
    "\n",
    "    # compare bagging method with standard decision tree classifier\n",
    "    print(f\"{label_col}: Standard DTR accuracy: {accuracy_score(y_test, y_pred_tree)}\")\n",
    "\n",
    "    rnd_clf = RandomForestClassifier(n_estimators=500, max_leaf_nodes=16, n_jobs=-1, random_state=42)\n",
    "    rnd_clf.fit(X_train, y_train)\n",
    "    y_pred_rf = rnd_clf.predict(X_test)\n",
    "    print(f\"{label_col}: RFC accuracy: {accuracy_score(y_test, y_pred_rf)}\")\n",
    "\n",
    "    ada_clf = AdaBoostClassifier(\n",
    "        DecisionTreeClassifier(max_depth=1), n_estimators=200, learning_rate=0.5, random_state=42)\n",
    "    ada_clf.fit(X_train, y_train)\n",
    "    y_pred_ada = ada_clf.predict(X_test)\n",
    "    print(f\"{label_col}: Adaboost accuracy: {accuracy_score(y_test, y_pred_ada)}\")\n",
    "\n",
    "    for d in range(2, 8, 1):\n",
    "        rnd_clf = RandomForestClassifier(n_estimators=500, n_jobs=-1, random_state=42, max_depth=d)\n",
    "        rnd_clf.fit(X_train, y_train)\n",
    "        y_pred_rf = rnd_clf.predict(X_test)\n",
    "        print(f\"{label_col}: New RFC, depth {d} accuracy: {accuracy_score(y_test, y_pred_rf)}\")\n",
    "\n",
    "    ada_lrs = [0.00005, 0.0001, 0.0005, 0.001, 0.005, 0.01, 0.05, 0.1, 0.5]\n",
    "    for lr in ada_lrs:\n",
    "        ada_clf = AdaBoostClassifier(\n",
    "        DecisionTreeClassifier(max_depth=1), n_estimators=200, learning_rate=lr, random_state=42)\n",
    "        ada_clf.fit(X_train, y_train)\n",
    "        y_pred_ada = ada_clf.predict(X_test)\n",
    "        print(f\"{label_col}: New Adaboost, LR {lr} accuracy: {accuracy_score(y_test, y_pred_ada)}\")\n"
   ]
  },
  {
   "cell_type": "code",
   "execution_count": null,
   "id": "12",
   "metadata": {},
   "outputs": [],
   "source": [
    "# Evaluating classifiers with NO restraints on data (ie. providing backer counts & pledges)\n",
    "evaluate_classifiers(X, y)"
   ]
  },
  {
   "cell_type": "code",
   "execution_count": null,
   "id": "13",
   "metadata": {},
   "outputs": [],
   "source": [
    "# Evaluating classifiers WITHOUT backers counts\n",
    "evaluate_classifiers(X.drop(columns=['backers_count']), y)"
   ]
  },
  {
   "cell_type": "code",
   "execution_count": null,
   "id": "14",
   "metadata": {},
   "outputs": [],
   "source": [
    "# Evaluating classifiers WITHOUT usd pledge information\n",
    "evaluate_classifiers(X.drop(columns=['usd_pledged']), y)"
   ]
  },
  {
   "cell_type": "code",
   "execution_count": null,
   "id": "15",
   "metadata": {},
   "outputs": [],
   "source": [
    "# Evaluating classifiers WITHOUT backers counts & pledge information\n",
    "evaluate_classifiers(X.drop(columns=['backers_count', 'usd_pledged']), y)"
   ]
  }
 ],
 "metadata": {
  "kernelspec": {
   "display_name": "Python 3",
   "language": "python",
   "name": "python3"
  },
  "language_info": {
   "codemirror_mode": {
    "name": "ipython",
    "version": 2
   },
   "file_extension": ".py",
   "mimetype": "text/x-python",
   "name": "python",
   "nbconvert_exporter": "python",
   "pygments_lexer": "ipython2",
   "version": "2.7.6"
  }
 },
 "nbformat": 4,
 "nbformat_minor": 5
}
