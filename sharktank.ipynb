{
 "cells": [
  {
   "metadata": {},
   "cell_type": "code",
   "source": [
    "import numpy as np\n",
    "import pandas as pd\n",
    "import seaborn as sns\n",
    "import matplotlib.pyplot as plt\n",
    "\n",
    "import ollama\n",
    "from ollama import chat\n",
    "from ollama import ChatResponse\n",
    "\n",
    "ollama.create(model='wonderful', from_='llama3.2', system=\"You are Mr. Wonderful from Shark Tank, judging a young entrepreneur's product pitch.\")\n",
    "\n",
    "response: ChatResponse = chat(model='wonderful', messages=[\n",
    "  {\n",
    "    'role': 'user',\n",
    "    'content': 'Why is the sky blue?',\n",
    "  },\n",
    "])\n",
    "print(response['message']['content'])"
   ],
   "id": "88165214657dbf19",
   "outputs": [],
   "execution_count": null
  },
  {
   "metadata": {},
   "cell_type": "code",
   "source": [
    "df = pd.read_csv(\"data/post_eda.csv\")\n",
    "#print(df['Unnamed: 0'])\n",
    "df.drop(columns=[\"Unnamed: 0\"], inplace=True)\n",
    "print(df.columns)"
   ],
   "id": "cf979fc4d4b71584",
   "outputs": [],
   "execution_count": null
  },
  {
   "metadata": {},
   "cell_type": "code",
   "source": [
    "pitch_cols = ['name', 'blurb', 'usd_goal', 'SuccessfulBool']\n",
    "pitch_df = df[pitch_cols]\n",
    "\n",
    "count = 0\n",
    "for row in pitch_df.iterrows():\n",
    "    count += 1\n",
    "    if count > 1:\n",
    "        break\n",
    "\n",
    "    name = row[1]['name']\n",
    "    blurb = row[1]['blurb']\n",
    "    goal = row[1]['usd_goal']\n",
    "    result = \"SUCCESS\" if row[1]['SuccessfulBool'] else \"FAILURE\"\n",
    "\n",
    "    pitch = f\"\"\"\n",
    "    Thank you for inviting us, Sharks. I'm asking ${goal} for our idea:\n",
    "    {name}\n",
    "    {blurb}\n",
    "    \"\"\"\n",
    "\n",
    "    print(pitch)\n",
    "\n",
    "    response: ChatResponse = chat(model='wonderful', messages=[\n",
    "      {\n",
    "        'role': 'user',\n",
    "        'content': pitch,\n",
    "      },\n",
    "    ])\n",
    "    print(response['message']['content'])\n",
    "\n",
    "    print()\n"
   ],
   "id": "57b2e47d441612b9",
   "outputs": [],
   "execution_count": null
  },
  {
   "metadata": {},
   "cell_type": "code",
   "source": [
    "# Save post sharktank data\n",
    "print(df.columns)\n",
    "df = df.sample(frac=1).reset_index(drop=True) # shuffle!\n",
    "df.to_csv(\"data/post_sharktank.csv\")"
   ],
   "id": "9db498b54c86a591",
   "outputs": [],
   "execution_count": null
  }
 ],
 "metadata": {
  "kernelspec": {
   "name": "python3",
   "language": "python",
   "display_name": "Python 3 (ipykernel)"
  }
 },
 "nbformat": 5,
 "nbformat_minor": 9
}
