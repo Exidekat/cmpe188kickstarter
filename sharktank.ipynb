{
 "cells": [
  {
   "metadata": {
    "ExecuteTime": {
     "end_time": "2025-04-25T02:28:00.102152Z",
     "start_time": "2025-04-25T02:27:56.822602Z"
    }
   },
   "cell_type": "code",
   "source": [
    "import re\n",
    "import numpy as np\n",
    "import pandas as pd\n",
    "import seaborn as sns\n",
    "import matplotlib.pyplot as plt\n",
    "\n",
    "import asyncio\n",
    "from tqdm import tqdm  # can wrap asyncio.as_completed\n",
    "import nest_asyncio\n",
    "\n",
    "import ollama\n",
    "from ollama import chat\n",
    "from ollama import ChatResponse\n",
    "from ollama import AsyncClient\n",
    "\n",
    "llm_base = 'llama3.2:1b'\n",
    "\n",
    "system_tail = \"judging a young entrepreneur's product pitch. You must fairly evaluate if the product pitch is strong enough to raise money through crowdfunding.\"\n",
    "\n",
    "ollama.create(model='wonderful', from_=llm_base, system=f\"You are Mr. Wonderful from Shark Tank, {system_tail}\")\n",
    "ollama.create(model='daymond', from_=llm_base, system=f\"You are Daymond John from Shark Tank, {system_tail}\")\n",
    "ollama.create(model='barbara', from_=llm_base, system=f\"You are Barbara Corcoran from Shark Tank, {system_tail}\")\n",
    "ollama.create(model='mark', from_=llm_base, system=f\"You are Mark Cuban from Shark Tank, {system_tail}\")\n",
    "ollama.create(model='evaluator', from_=llm_base, system=f\"You are a machine that outputs single-digit integers based on a query.\")\n",
    "\n",
    "response: ChatResponse = chat(model='wonderful', messages=[\n",
    "  {\n",
    "    'role': 'user',\n",
    "    'content': 'Why is the sky blue?',\n",
    "  },\n",
    "])\n",
    "print(response['message']['content'])"
   ],
   "id": "88165214657dbf19",
   "outputs": [
    {
     "name": "stdout",
     "output_type": "stream",
     "text": [
      "A simple question that sparks imagination and curiosity.\n",
      "\n",
      "The color of the sky is a fascinating topic, and there are several scientific explanations for why it appears blue. Here's a breakdown:\n",
      "\n",
      "1. **Scattering of light**: When sunlight enters Earth's atmosphere, it encounters tiny molecules of gases such as nitrogen (N2) and oxygen (O2). These molecules scatter the light in all directions, but they scatter shorter (blue) wavelengths more than longer (red) wavelengths.\n",
      "2. **Rayleigh scattering**: This is the primary reason why the sky appears blue. The smaller particles in the atmosphere, like N2 and O2, scatter the light in a way that favors the blue region of the spectrum. This effect becomes more pronounced during the daytime when the sun is overhead.\n",
      "3. **Atmospheric conditions**: The color of the sky can also be affected by atmospheric conditions, such as pollution, dust, and water vapor. For example, aerosols like smoke or pollutants can scatter light in a way that makes the sky appear hazy or gray.\n",
      "\n",
      "So, why don't we see more red or yellow light in the sky during the day? That's because the shorter wavelengths are scattered away by the atmosphere, leaving mainly blue and violet light to reach our eyes.\n",
      "\n",
      "Now, let's get back to your original question. You asked why the sky is blue. As a Shark Tank investor, I'd be looking for a more compelling answer that highlights the innovation, creativity, or market potential behind this product or service.\n"
     ]
    }
   ],
   "execution_count": 1
  },
  {
   "metadata": {
    "ExecuteTime": {
     "end_time": "2025-04-25T02:28:00.118295Z",
     "start_time": "2025-04-25T02:28:00.114922Z"
    }
   },
   "cell_type": "code",
   "source": [
    "def extract_int(s: str) -> int | None:\n",
    "    \"\"\"\n",
    "    Extracts the first integer found in the input string.\n",
    "    Returns the integer, or None if no integer is present.\n",
    "    \"\"\"\n",
    "    match = re.search(r'-?\\d+', s)\n",
    "    return int(match.group()) if match else None\n",
    "\n",
    "# Example\n",
    "text = \"I would score it a 2.\"\n",
    "print(extract_int(text))  # → 2\n"
   ],
   "id": "aff99831e843c829",
   "outputs": [
    {
     "name": "stdout",
     "output_type": "stream",
     "text": [
      "2\n"
     ]
    }
   ],
   "execution_count": 2
  },
  {
   "metadata": {
    "ExecuteTime": {
     "end_time": "2025-04-25T02:28:00.235762Z",
     "start_time": "2025-04-25T02:28:00.152955Z"
    }
   },
   "cell_type": "code",
   "source": [
    "df = pd.read_csv(\"data/post_eda.csv\")\n",
    "#print(df['Unnamed: 0'])\n",
    "df.drop(columns=[\"Unnamed: 0\"], inplace=True)\n",
    "print(df.columns)"
   ],
   "id": "cf979fc4d4b71584",
   "outputs": [
    {
     "name": "stdout",
     "output_type": "stream",
     "text": [
      "Index(['name', 'blurb', 'disable_communication', 'country', 'deadline',\n",
      "       'created_at', 'launched_at', 'staff_pick', 'backers_count',\n",
      "       'usd_pledged', 'spotlight', 'name_len', 'name_len_clean', 'blurb_len',\n",
      "       'blurb_len_clean', 'create_to_launch_days', 'launch_to_deadline_days',\n",
      "       'launch_to_state_change_days', 'SuccessfulBool', 'USorGB', 'TOPCOUNTRY',\n",
      "       'LaunchedTuesday', 'DeadlineWeekend', 'usd_goal', 'cat_Academic',\n",
      "       'cat_Apps', 'cat_Blues', 'cat_Comedy', 'cat_Experimental',\n",
      "       'cat_Festivals', 'cat_Flight', 'cat_Gadgets', 'cat_Hardware',\n",
      "       'cat_Immersive', 'cat_Makerspaces', 'cat_Misc', 'cat_Musical',\n",
      "       'cat_Places', 'cat_Plays', 'cat_Restaurants', 'cat_Robots',\n",
      "       'cat_Shorts', 'cat_Software', 'cat_Sound', 'cat_Spaces',\n",
      "       'cat_Thrillers', 'cat_Wearables', 'cat_Web', 'cat_Webseries',\n",
      "       'usd_goal (log)'],\n",
      "      dtype='object')\n"
     ]
    }
   ],
   "execution_count": 3
  },
  {
   "metadata": {
    "ExecuteTime": {
     "end_time": "2025-04-25T02:28:00.245327Z",
     "start_time": "2025-04-25T02:28:00.241790Z"
    }
   },
   "cell_type": "code",
   "source": [
    "nest_asyncio.apply()\n",
    "\n",
    "async def judge_pitch_async(judge_model_str: str,\n",
    "                            silent: bool = True,\n",
    "                            max_concurrent: int = 60):\n",
    "    pitch_cols = ['name', 'blurb', 'usd_goal']\n",
    "    pitch_df = df[pitch_cols]\n",
    "\n",
    "    # make sure our result columns exist\n",
    "    df[f'sharktank_{judge_model_str}'] = ''\n",
    "    df[f'sharktank_{judge_model_str}_eval'] = 0\n",
    "\n",
    "    client = AsyncClient()\n",
    "    sem = asyncio.Semaphore(max_concurrent)\n",
    "\n",
    "    async def _process(idx, row):\n",
    "        async with sem:\n",
    "            name  = row['name']\n",
    "            blurb = row['blurb']\n",
    "            goal  = row['usd_goal']\n",
    "\n",
    "            pitch = f\"\"\"\n",
    "            Thank you for inviting us, Sharks. I'm asking ${goal} for our idea:\n",
    "            {name}\n",
    "            {blurb}\n",
    "            \"\"\"\n",
    "\n",
    "            # 1) get the “judge” response\n",
    "            resp1 = await client.chat(\n",
    "                model=judge_model_str,\n",
    "                messages=[{'role':'user','content':pitch}]\n",
    "            )\n",
    "            message = resp1['message']['content']\n",
    "\n",
    "            # 2) get the 0–9 evaluation from your base LLM\n",
    "            eval_prompt = (\n",
    "                \"Read the following conversation between a fictional entrepreneur and a fictional judge: \" +\n",
    "                f\"Entrepreneur: {pitch}\\n\" +\n",
    "                f\"Judge: {message}\\n\" +\n",
    "                \"Provide a single-digit response (0-9) scoring whether or not the judge thinks the entrepreneur's idea is good, based on their conversation. Only provide a single-digit integer in your response.\"\n",
    "            )\n",
    "            evaluation = None\n",
    "            while evaluation is None:\n",
    "                resp2 = await client.chat(\n",
    "                    model='evaluator',\n",
    "                    messages=[{'role':'user','content':eval_prompt}]\n",
    "                )\n",
    "                evaluation = extract_int(resp2['message']['content'])\n",
    "\n",
    "            return idx, pitch, message, evaluation\n",
    "\n",
    "    # fire off all tasks\n",
    "    tasks = [\n",
    "        asyncio.create_task(_process(idx, row))\n",
    "        for idx, row in pitch_df.iterrows()\n",
    "    ]\n",
    "\n",
    "    # collect results as they finish, updating df\n",
    "    for future in tqdm(asyncio.as_completed(tasks),\n",
    "                       total=len(tasks),\n",
    "                       desc=f\"Processing pitches for {judge_model_str}\"):\n",
    "        idx, pitch, message, evaluation = await future\n",
    "\n",
    "        if not silent:\n",
    "            print(pitch)\n",
    "            print(message)\n",
    "            print(evaluation)\n",
    "            print()\n",
    "\n",
    "        df.at[idx, f'sharktank_{judge_model_str}']      = message\n",
    "        df.at[idx, f'sharktank_{judge_model_str}_eval'] = evaluation\n"
   ],
   "id": "57b2e47d441612b9",
   "outputs": [],
   "execution_count": 4
  },
  {
   "metadata": {
    "jupyter": {
     "is_executing": true
    },
    "ExecuteTime": {
     "start_time": "2025-04-25T02:28:00.258156Z"
    }
   },
   "cell_type": "code",
   "source": "asyncio.run(judge_pitch_async('wonderful'))",
   "id": "fb591dc0912b743e",
   "outputs": [
    {
     "name": "stderr",
     "output_type": "stream",
     "text": [
      "Processing pitches for wonderful:   4%|▎         | 750/20632 [17:00<3:36:23,  1.53it/s] "
     ]
    }
   ],
   "execution_count": null
  },
  {
   "metadata": {},
   "cell_type": "code",
   "outputs": [],
   "execution_count": null,
   "source": "asyncio.run(judge_pitch_async('daymond'))",
   "id": "dbff5e9b6c2ffdb"
  },
  {
   "metadata": {},
   "cell_type": "code",
   "outputs": [],
   "execution_count": null,
   "source": "asyncio.run(judge_pitch_async('barbara'))",
   "id": "c5b8d0d0af479d77"
  },
  {
   "metadata": {},
   "cell_type": "code",
   "outputs": [],
   "execution_count": null,
   "source": "asyncio.run(judge_pitch_async('mark'))",
   "id": "e5bb4de7773a4483"
  },
  {
   "metadata": {},
   "cell_type": "code",
   "source": [
    "# Save post sharktank data\n",
    "print(df.columns)\n",
    "df = df.sample(frac=1).reset_index(drop=True) # shuffle!\n",
    "df.to_csv(\"data/post_sharktank.csv\")"
   ],
   "id": "9db498b54c86a591",
   "outputs": [],
   "execution_count": null
  }
 ],
 "metadata": {
  "kernelspec": {
   "name": "python3",
   "language": "python",
   "display_name": "Python 3 (ipykernel)"
  }
 },
 "nbformat": 5,
 "nbformat_minor": 9
}
