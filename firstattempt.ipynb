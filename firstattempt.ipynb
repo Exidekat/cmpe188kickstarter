{
  "cells": [
    {
      "cell_type": "code",
      "id": "initial_id",
      "metadata": {
        "collapsed": true,
        "ExecuteTime": {
          "end_time": "2025-05-04T19:55:28.216678Z",
          "start_time": "2025-05-04T19:55:28.213708Z"
        },
        "id": "initial_id"
      },
      "source": [
        "import numpy as np\n",
        "import pandas as pd\n",
        "import seaborn as sns\n",
        "import matplotlib.pyplot as plt\n",
        "from sklearn.svm import SVC\n",
        "from sklearn.ensemble import BaggingClassifier, RandomForestClassifier, AdaBoostClassifier\n",
        "from sklearn.feature_selection import RFE\n",
        "from sklearn.linear_model import LinearRegression\n",
        "from sklearn.metrics import accuracy_score\n",
        "from sklearn.model_selection import cross_val_score, train_test_split\n",
        "from sklearn.linear_model import Ridge\n",
        "from sklearn.tree import DecisionTreeClassifier\n",
        "from sklearn import tree\n",
        "\n",
        "\n",
        "SHOW_DECISION_TREES = False"
      ],
      "outputs": [],
      "execution_count": 2
    },
    {
      "metadata": {
        "ExecuteTime": {
          "end_time": "2025-05-04T19:55:29.082043Z",
          "start_time": "2025-05-04T19:55:28.241459Z"
        },
        "colab": {
          "base_uri": "https://localhost:8080/"
        },
        "id": "2a9e610aa6c99a83",
        "outputId": "21b2fe6a-b1e3-4f52-a7d4-1bb59bb41f18"
      },
      "cell_type": "code",
      "source": [
        "df = pd.read_csv(\"/content/post_eda.csv\")\n",
        "#print(df['Unnamed: 0'])\n",
        "df.drop(columns=[\"Unnamed: 0\"], inplace=True)\n",
        "print(df.columns)"
      ],
      "id": "2a9e610aa6c99a83",
      "outputs": [
        {
          "output_type": "stream",
          "name": "stdout",
          "text": [
            "Index(['name', 'blurb', 'disable_communication', 'country', 'deadline',\n",
            "       'created_at', 'launched_at', 'staff_pick', 'backers_count',\n",
            "       'usd_pledged', 'spotlight', 'name_len', 'name_len_clean', 'blurb_len',\n",
            "       'blurb_len_clean', 'create_to_launch_days', 'launch_to_deadline_days',\n",
            "       'launch_to_state_change_days', 'SuccessfulBool', 'USorGB', 'TOPCOUNTRY',\n",
            "       'LaunchedTuesday', 'DeadlineWeekend', 'usd_goal', 'cat_Academic',\n",
            "       'cat_Apps', 'cat_Blues', 'cat_Comedy', 'cat_Experimental',\n",
            "       'cat_Festivals', 'cat_Flight', 'cat_Gadgets', 'cat_Hardware',\n",
            "       'cat_Immersive', 'cat_Makerspaces', 'cat_Misc', 'cat_Musical',\n",
            "       'cat_Places', 'cat_Plays', 'cat_Restaurants', 'cat_Robots',\n",
            "       'cat_Shorts', 'cat_Software', 'cat_Sound', 'cat_Spaces',\n",
            "       'cat_Thrillers', 'cat_Wearables', 'cat_Web', 'cat_Webseries',\n",
            "       'usd_goal (log)'],\n",
            "      dtype='object')\n"
          ]
        }
      ],
      "execution_count": 3
    },
    {
      "metadata": {
        "ExecuteTime": {
          "end_time": "2025-05-04T19:55:29.107400Z",
          "start_time": "2025-05-04T19:55:29.102092Z"
        },
        "id": "ea1e42a78100636e"
      },
      "cell_type": "code",
      "source": [
        "label_col = 'SuccessfulBool'\n",
        "#numerical_data = df.select_dtypes(include=['number'])\n",
        "numerical_data = df.select_dtypes(include=['number', 'bool'])\n",
        "numerical_data.dropna(inplace=True)\n",
        "preX = numerical_data.drop(columns=[label_col])\n",
        "prey = numerical_data[label_col]"
      ],
      "id": "ea1e42a78100636e",
      "outputs": [],
      "execution_count": 4
    },
    {
      "cell_type": "code",
      "source": [
        "preX.columns"
      ],
      "metadata": {
        "colab": {
          "base_uri": "https://localhost:8080/"
        },
        "id": "RuZAxqBRKTBG",
        "outputId": "5bb6d7c0-1482-4352-a7ea-96dc97f739af"
      },
      "id": "RuZAxqBRKTBG",
      "execution_count": 5,
      "outputs": [
        {
          "output_type": "execute_result",
          "data": {
            "text/plain": [
              "Index(['disable_communication', 'staff_pick', 'backers_count', 'usd_pledged',\n",
              "       'spotlight', 'name_len', 'name_len_clean', 'blurb_len',\n",
              "       'blurb_len_clean', 'create_to_launch_days', 'launch_to_deadline_days',\n",
              "       'launch_to_state_change_days', 'USorGB', 'TOPCOUNTRY',\n",
              "       'LaunchedTuesday', 'DeadlineWeekend', 'usd_goal', 'cat_Academic',\n",
              "       'cat_Apps', 'cat_Blues', 'cat_Comedy', 'cat_Experimental',\n",
              "       'cat_Festivals', 'cat_Flight', 'cat_Gadgets', 'cat_Hardware',\n",
              "       'cat_Immersive', 'cat_Makerspaces', 'cat_Misc', 'cat_Musical',\n",
              "       'cat_Places', 'cat_Plays', 'cat_Restaurants', 'cat_Robots',\n",
              "       'cat_Shorts', 'cat_Software', 'cat_Sound', 'cat_Spaces',\n",
              "       'cat_Thrillers', 'cat_Wearables', 'cat_Web', 'cat_Webseries',\n",
              "       'usd_goal (log)'],\n",
              "      dtype='object')"
            ]
          },
          "metadata": {},
          "execution_count": 5
        }
      ]
    },
    {
      "metadata": {
        "ExecuteTime": {
          "end_time": "2025-05-04T19:55:49.535652Z",
          "start_time": "2025-05-04T19:55:29.122116Z"
        },
        "colab": {
          "base_uri": "https://localhost:8080/",
          "height": 599
        },
        "id": "4271c69e5f23fff2",
        "outputId": "91b7bb38-211e-492d-eebf-08941aa943e6"
      },
      "cell_type": "code",
      "source": [
        "# Initialize the decision tree classifier model\n",
        "model = DecisionTreeClassifier(random_state=42)\n",
        "\n",
        "# Try different feature counts and evaluate model performance\n",
        "num_features = list(range(1, len(preX.columns) + 1))\n",
        "cv_scores = []\n",
        "\n",
        "for n in num_features:\n",
        "    # Perform Recursive Feature Elimination (RFE) with n selected features\n",
        "    rfe = RFE(model, n_features_to_select=n)\n",
        "    rfe.fit(preX, prey)  # Fit RFE to data\n",
        "\n",
        "    # Compute cross-validation score (accuracy for classification)\n",
        "    score = np.mean(cross_val_score(model, rfe.transform(preX), prey, cv=5, scoring=\"accuracy\"))\n",
        "    cv_scores.append(1 - score)  # Convert to error rate (1 - accuracy)\n",
        "\n",
        "# Determine the optimal number of features\n",
        "optimal_num_features = num_features[np.argmin(cv_scores)]\n",
        "\n",
        "# Fit RFE with the optimal number of features\n",
        "rfe_optimal = RFE(model, n_features_to_select=optimal_num_features)\n",
        "rfe_optimal.fit(preX, prey)\n",
        "\n",
        "# Extract selected features\n",
        "optimal_features = list(preX.columns[rfe_optimal.support_])\n",
        "print(f\"Optimal number of features: {optimal_num_features}\")\n",
        "print(f\"Selected optimal features: {optimal_features}\")\n",
        "\n",
        "# Plot Number of Features vs. Validation Error\n",
        "plt.figure(figsize=(8, 6))\n",
        "plt.plot(num_features, cv_scores, marker=\"o\", linestyle=\"-\", color=\"b\")\n",
        "plt.axvline(optimal_num_features, color='r', linestyle=\"--\", label=f\"Optimal Features: {optimal_num_features}\")\n",
        "plt.xlabel(\"Number of Features\")\n",
        "plt.ylabel(\"Cross-Validated Error Rate (1 - Accuracy)\")\n",
        "plt.title(\"Determining the Optimal Number of Features using Decision Tree\")\n",
        "plt.legend()\n",
        "plt.grid()\n",
        "plt.show()"
      ],
      "id": "4271c69e5f23fff2",
      "outputs": [
        {
          "output_type": "stream",
          "name": "stdout",
          "text": [
            "Optimal number of features: 1\n",
            "Selected optimal features: ['spotlight']\n"
          ]
        },
        {
          "output_type": "display_data",
          "data": {
            "text/plain": [
              "<Figure size 800x600 with 1 Axes>"
            ],
            "image/png": "[encoded data removed]"
          },
          "metadata": {}
        }
      ],
      "execution_count": 8
    },
    {
      "metadata": {
        "ExecuteTime": {
          "end_time": "2025-05-04T19:55:49.571326Z",
          "start_time": "2025-05-04T19:55:49.560292Z"
        },
        "colab": {
          "base_uri": "https://localhost:8080/"
        },
        "id": "d60dd75561d19a9b",
        "outputId": "9e91cab6-08b3-4097-c2a2-c2bf42c98032"
      },
      "cell_type": "code",
      "source": [
        "# Split data randomly into train and validation sets, fit a model to the train set\n",
        "X_train, X_test, y_train, y_test = train_test_split(preX, prey, test_size=0.15, random_state=42, shuffle=True)\n",
        "\n",
        "# We'll use Ridge Regression (L2 Regularization)\n",
        "mlr = Ridge(alpha=1.0)  # Adjust alpha for more/less regularization (too lazy to automate hyperparameter tuning atm)\n",
        "mlr.fit(X_train, y_train)\n",
        "\n",
        "# Print model Coefficients\n",
        "mlr_coefficients = pd.Series(mlr.coef_, index=preX.columns)\n",
        "print(\"Model Coefficients:\")\n",
        "print(mlr_coefficients)"
      ],
      "id": "d60dd75561d19a9b",
      "outputs": [
        {
          "output_type": "stream",
          "name": "stdout",
          "text": [
            "Model Coefficients:\n",
            "disable_communication         -6.893459e-05\n",
            "staff_pick                     1.641702e-04\n",
            "backers_count                  4.619823e-09\n",
            "usd_pledged                    2.324084e-10\n",
            "spotlight                      9.995793e-01\n",
            "name_len                       3.157804e-06\n",
            "name_len_clean                 3.984849e-06\n",
            "blurb_len                     -2.653843e-06\n",
            "blurb_len_clean                2.985272e-06\n",
            "create_to_launch_days          2.918611e-09\n",
            "launch_to_deadline_days       -2.897497e-06\n",
            "launch_to_state_change_days    2.672048e-06\n",
            "USorGB                         1.603931e-05\n",
            "TOPCOUNTRY                     6.054178e-06\n",
            "LaunchedTuesday                1.128596e-05\n",
            "DeadlineWeekend               -5.228853e-06\n",
            "usd_goal                       3.178531e-12\n",
            "cat_Academic                  -1.166535e-04\n",
            "cat_Apps                      -1.302327e-05\n",
            "cat_Blues                      1.444840e-04\n",
            "cat_Comedy                    -5.182157e-05\n",
            "cat_Experimental               4.730738e-05\n",
            "cat_Festivals                  7.554715e-05\n",
            "cat_Flight                    -5.046461e-05\n",
            "cat_Gadgets                   -6.724745e-06\n",
            "cat_Hardware                   2.398781e-06\n",
            "cat_Immersive                  3.464301e-05\n",
            "cat_Makerspaces                8.319467e-06\n",
            "cat_Misc                       8.955291e-06\n",
            "cat_Musical                    5.850132e-05\n",
            "cat_Places                    -1.469930e-04\n",
            "cat_Plays                      7.380081e-05\n",
            "cat_Restaurants                3.903481e-07\n",
            "cat_Robots                    -8.689653e-06\n",
            "cat_Shorts                     2.500088e-04\n",
            "cat_Software                  -6.005611e-05\n",
            "cat_Sound                      1.761871e-06\n",
            "cat_Spaces                     5.718869e-05\n",
            "cat_Thrillers                 -1.112665e-04\n",
            "cat_Wearables                 -4.680406e-07\n",
            "cat_Web                       -7.547488e-05\n",
            "cat_Webseries                 -1.216711e-04\n",
            "usd_goal (log)                -2.764809e-05\n",
            "dtype: float64\n"
          ]
        },
        {
          "output_type": "stream",
          "name": "stderr",
          "text": [
            "/usr/local/lib/python3.11/dist-packages/sklearn/linear_model/_ridge.py:215: LinAlgWarning: Ill-conditioned matrix (rcond=2.98152e-17): result may not be accurate.\n",
            "  return linalg.solve(A, Xy, assume_a=\"pos\", overwrite_a=True).T\n"
          ]
        }
      ],
      "execution_count": 9
    },
    {
      "metadata": {
        "ExecuteTime": {
          "end_time": "2025-05-04T19:55:49.587040Z",
          "start_time": "2025-05-04T19:55:49.580342Z"
        },
        "id": "3aa4dd71c798c5fa"
      },
      "cell_type": "code",
      "source": [
        "def evaluate_classifiers(X, y):\n",
        "    # Model testing from Ensemble assignment\n",
        "    features = [x for x in X.columns]\n",
        "    print(f\"Features: {features}\")\n",
        "    X_train, X_test, y_train, y_test = train_test_split(X, y, test_size=0.20, shuffle=True)\n",
        "\n",
        "    best_acc = 0.0\n",
        "    best_clf = None\n",
        "\n",
        "    # 1) Standard Decision Tree\n",
        "    tree_clf = DecisionTreeClassifier(random_state=42)\n",
        "    tree_clf.fit(X_train, y_train)\n",
        "    y_pred_tree = tree_clf.predict(X_test)\n",
        "    acc_tree = accuracy_score(y_test, y_pred_tree)\n",
        "    print(f\"{label_col}: Standard DTR accuracy: {acc_tree}\")\n",
        "    if acc_tree > best_acc:\n",
        "        best_acc, best_clf = acc_tree, tree_clf\n",
        "\n",
        "    # 2) Bagging\n",
        "    bag_clf = BaggingClassifier(\n",
        "        DecisionTreeClassifier(random_state=42),\n",
        "        n_estimators=500,\n",
        "        max_samples=10,\n",
        "        bootstrap=True,\n",
        "        n_jobs=-1,\n",
        "        random_state=42\n",
        "    )\n",
        "    bag_clf.fit(X_train, y_train)\n",
        "    y_pred = bag_clf.predict(X_test)\n",
        "    acc = accuracy_score(y_test, y_pred)\n",
        "    print(f\"{label_col}: Bagging DTR accuracy: {acc}\")\n",
        "    if acc > best_acc:\n",
        "        best_acc, best_clf = acc, bag_clf\n",
        "\n",
        "    # 3) Random Forest (default)\n",
        "    rnd_clf = RandomForestClassifier(\n",
        "        n_estimators=500,\n",
        "        max_leaf_nodes=16,\n",
        "        n_jobs=-1,\n",
        "        random_state=42\n",
        "    )\n",
        "    rnd_clf.fit(X_train, y_train)\n",
        "    y_pred_rf = rnd_clf.predict(X_test)\n",
        "    acc_rf = accuracy_score(y_test, y_pred_rf)\n",
        "    print(f\"{label_col}: RFC accuracy: {acc_rf}\")\n",
        "    if acc_rf > best_acc:\n",
        "        best_acc, best_clf = acc_rf, rnd_clf\n",
        "\n",
        "    # 4) AdaBoost (default)\n",
        "    ada_clf = AdaBoostClassifier(\n",
        "        DecisionTreeClassifier(max_depth=1),\n",
        "        n_estimators=200,\n",
        "        learning_rate=0.5,\n",
        "        random_state=42\n",
        "    )\n",
        "    ada_clf.fit(X_train, y_train)\n",
        "    y_pred_ada = ada_clf.predict(X_test)\n",
        "    acc_ada = accuracy_score(y_test, y_pred_ada)\n",
        "    print(f\"{label_col}: Adaboost accuracy: {acc_ada}\")\n",
        "    if acc_ada > best_acc:\n",
        "        best_acc, best_clf = acc_ada, ada_clf\n",
        "\n",
        "    # 5) RFC with varying max_depth\n",
        "    for d in range(2, 8):\n",
        "        clf = RandomForestClassifier(\n",
        "            n_estimators=500,\n",
        "            max_depth=d,\n",
        "            n_jobs=-1,\n",
        "            random_state=42\n",
        "        )\n",
        "        clf.fit(X_train, y_train)\n",
        "        y_pred = clf.predict(X_test)\n",
        "        acc_d = accuracy_score(y_test, y_pred)\n",
        "        print(f\"{label_col}: New RFC, depth {d} accuracy: {acc_d}\")\n",
        "        if acc_d > best_acc:\n",
        "            best_acc, best_clf = acc_d, clf\n",
        "\n",
        "    # 6) AdaBoost with varying learning rates\n",
        "    ada_lrs = [0.00005, 0.0001, 0.0005, 0.001, 0.005, 0.01, 0.05, 0.1, 0.5]\n",
        "    for lr in ada_lrs:\n",
        "        clf = AdaBoostClassifier(\n",
        "            DecisionTreeClassifier(max_depth=1),\n",
        "            n_estimators=200,\n",
        "            learning_rate=lr,\n",
        "            random_state=42\n",
        "        )\n",
        "        clf.fit(X_train, y_train)\n",
        "        y_pred = clf.predict(X_test)\n",
        "        acc_lr = accuracy_score(y_test, y_pred)\n",
        "        print(f\"{label_col}: New Adaboost, LR {lr} accuracy: {acc_lr}\")\n",
        "        if acc_lr > best_acc:\n",
        "            best_acc, best_clf = acc_lr, clf\n",
        "\n",
        "    print(f\"\\nBest model: {best_clf.__class__.__name__} with accuracy {best_acc:.4f}\")\n",
        "    return features, best_clf"
      ],
      "id": "3aa4dd71c798c5fa",
      "outputs": [],
      "execution_count": 10
    },
    {
      "metadata": {
        "ExecuteTime": {
          "end_time": "2025-05-04T19:55:55.529026Z",
          "start_time": "2025-05-04T19:55:49.632219Z"
        },
        "id": "8d526cb3a1ab14f5",
        "outputId": "dc37fd18-0a9f-4363-8c16-8f61dcfc665a"
      },
      "cell_type": "code",
      "source": [
        "# Evaluating classifiers with NO restraints on data (ie. providing backer counts & pledges)\n",
        "features, best_model = evaluate_classifiers(preX, prey)"
      ],
      "id": "8d526cb3a1ab14f5",
      "outputs": [
        {
          "name": "stdout",
          "output_type": "stream",
          "text": [
            "Features: ['disable_communication', 'staff_pick', 'backers_count', 'usd_pledged', 'spotlight', 'name_len', 'name_len_clean', 'blurb_len', 'blurb_len_clean', 'create_to_launch_days', 'launch_to_deadline_days', 'launch_to_state_change_days', 'USorGB', 'TOPCOUNTRY', 'LaunchedTuesday', 'DeadlineWeekend', 'usd_goal', 'cat_Academic', 'cat_Apps', 'cat_Blues', 'cat_Comedy', 'cat_Experimental', 'cat_Festivals', 'cat_Flight', 'cat_Gadgets', 'cat_Hardware', 'cat_Immersive', 'cat_Makerspaces', 'cat_Misc', 'cat_Musical', 'cat_Places', 'cat_Plays', 'cat_Restaurants', 'cat_Robots', 'cat_Shorts', 'cat_Software', 'cat_Sound', 'cat_Spaces', 'cat_Thrillers', 'cat_Wearables', 'cat_Web', 'cat_Webseries', 'usd_goal (log)', 'sharktank_wonderful_eval', 'sharktank_daymond_eval', 'sharktank_barbara_eval', 'sharktank_mark_eval', 'blurb_sentiment', 'sharktank_wonderful_sentiment', 'sharktank_daymond_sentiment', 'sharktank_barbara_sentiment', 'sharktank_mark_sentiment']\n",
            "SuccessfulBool: Standard DTR accuracy: 1.0\n",
            "SuccessfulBool: Bagging DTR accuracy: 1.0\n",
            "SuccessfulBool: RFC accuracy: 1.0\n",
            "SuccessfulBool: Adaboost accuracy: 1.0\n",
            "SuccessfulBool: New RFC, depth 2 accuracy: 0.9951526902569074\n",
            "SuccessfulBool: New RFC, depth 3 accuracy: 0.9990305380513815\n",
            "SuccessfulBool: New RFC, depth 4 accuracy: 1.0\n",
            "SuccessfulBool: New RFC, depth 5 accuracy: 1.0\n",
            "SuccessfulBool: New RFC, depth 6 accuracy: 1.0\n",
            "SuccessfulBool: New RFC, depth 7 accuracy: 1.0\n",
            "SuccessfulBool: New Adaboost, LR 5e-05 accuracy: 1.0\n",
            "SuccessfulBool: New Adaboost, LR 0.0001 accuracy: 1.0\n",
            "SuccessfulBool: New Adaboost, LR 0.0005 accuracy: 1.0\n",
            "SuccessfulBool: New Adaboost, LR 0.001 accuracy: 1.0\n",
            "SuccessfulBool: New Adaboost, LR 0.005 accuracy: 1.0\n",
            "SuccessfulBool: New Adaboost, LR 0.01 accuracy: 1.0\n",
            "SuccessfulBool: New Adaboost, LR 0.05 accuracy: 1.0\n",
            "SuccessfulBool: New Adaboost, LR 0.1 accuracy: 1.0\n",
            "SuccessfulBool: New Adaboost, LR 0.5 accuracy: 1.0\n",
            "\n",
            "Best model: DecisionTreeClassifier with accuracy 1.0000\n"
          ]
        }
      ],
      "execution_count": null
    },
    {
      "metadata": {
        "ExecuteTime": {
          "end_time": "2025-05-04T19:56:00.472263Z",
          "start_time": "2025-05-04T19:55:55.549244Z"
        },
        "colab": {
          "base_uri": "https://localhost:8080/"
        },
        "id": "9a72e04f0fd94c7f",
        "outputId": "26439051-329a-41b7-9507-968f863e7420"
      },
      "cell_type": "code",
      "source": [
        "# Evaluating classifiers WITHOUT backers counts & pledge information\n",
        "inaccesible_cols = ['backers_count', 'usd_pledged']\n",
        "features, best_model = evaluate_classifiers(preX.drop(columns=inaccesible_cols), prey)"
      ],
      "id": "9a72e04f0fd94c7f",
      "outputs": [
        {
          "output_type": "stream",
          "name": "stdout",
          "text": [
            "Features: ['disable_communication', 'staff_pick', 'spotlight', 'name_len', 'name_len_clean', 'blurb_len', 'blurb_len_clean', 'create_to_launch_days', 'launch_to_deadline_days', 'launch_to_state_change_days', 'USorGB', 'TOPCOUNTRY', 'LaunchedTuesday', 'DeadlineWeekend', 'usd_goal', 'cat_Academic', 'cat_Apps', 'cat_Blues', 'cat_Comedy', 'cat_Experimental', 'cat_Festivals', 'cat_Flight', 'cat_Gadgets', 'cat_Hardware', 'cat_Immersive', 'cat_Makerspaces', 'cat_Misc', 'cat_Musical', 'cat_Places', 'cat_Plays', 'cat_Restaurants', 'cat_Robots', 'cat_Shorts', 'cat_Software', 'cat_Sound', 'cat_Spaces', 'cat_Thrillers', 'cat_Wearables', 'cat_Web', 'cat_Webseries', 'usd_goal (log)']\n",
            "SuccessfulBool: Standard DTR accuracy: 1.0\n",
            "SuccessfulBool: Bagging DTR accuracy: 1.0\n",
            "SuccessfulBool: RFC accuracy: 1.0\n",
            "SuccessfulBool: Adaboost accuracy: 1.0\n",
            "SuccessfulBool: New RFC, depth 2 accuracy: 0.9020843431895298\n",
            "SuccessfulBool: New RFC, depth 3 accuracy: 1.0\n",
            "SuccessfulBool: New RFC, depth 4 accuracy: 1.0\n",
            "SuccessfulBool: New RFC, depth 5 accuracy: 1.0\n",
            "SuccessfulBool: New RFC, depth 6 accuracy: 1.0\n",
            "SuccessfulBool: New RFC, depth 7 accuracy: 1.0\n",
            "SuccessfulBool: New Adaboost, LR 5e-05 accuracy: 1.0\n",
            "SuccessfulBool: New Adaboost, LR 0.0001 accuracy: 1.0\n",
            "SuccessfulBool: New Adaboost, LR 0.0005 accuracy: 1.0\n",
            "SuccessfulBool: New Adaboost, LR 0.001 accuracy: 1.0\n",
            "SuccessfulBool: New Adaboost, LR 0.005 accuracy: 1.0\n",
            "SuccessfulBool: New Adaboost, LR 0.01 accuracy: 1.0\n",
            "SuccessfulBool: New Adaboost, LR 0.05 accuracy: 1.0\n",
            "SuccessfulBool: New Adaboost, LR 0.1 accuracy: 1.0\n",
            "SuccessfulBool: New Adaboost, LR 0.5 accuracy: 1.0\n",
            "\n",
            "Best model: DecisionTreeClassifier with accuracy 1.0000\n"
          ]
        }
      ],
      "execution_count": 11
    },
    {
      "metadata": {
        "ExecuteTime": {
          "end_time": "2025-05-04T19:56:31.144737Z",
          "start_time": "2025-05-04T19:56:00.488677Z"
        },
        "colab": {
          "base_uri": "https://localhost:8080/"
        },
        "id": "d433c8e44553edfa",
        "outputId": "c452e895-6745-4a47-fc0d-afe3e1101c81"
      },
      "cell_type": "code",
      "source": [
        "# Evaluating classifiers WITHOUT backers counts & pledge information, and kickstarter mod information\n",
        "inaccesible_cols = ['backers_count', 'usd_pledged', 'spotlight', 'staff_pick']\n",
        "features, best_model = evaluate_classifiers(preX.drop(columns=inaccesible_cols), prey)"
      ],
      "id": "d433c8e44553edfa",
      "outputs": [
        {
          "output_type": "stream",
          "name": "stdout",
          "text": [
            "Features: ['disable_communication', 'name_len', 'name_len_clean', 'blurb_len', 'blurb_len_clean', 'create_to_launch_days', 'launch_to_deadline_days', 'launch_to_state_change_days', 'USorGB', 'TOPCOUNTRY', 'LaunchedTuesday', 'DeadlineWeekend', 'usd_goal', 'cat_Academic', 'cat_Apps', 'cat_Blues', 'cat_Comedy', 'cat_Experimental', 'cat_Festivals', 'cat_Flight', 'cat_Gadgets', 'cat_Hardware', 'cat_Immersive', 'cat_Makerspaces', 'cat_Misc', 'cat_Musical', 'cat_Places', 'cat_Plays', 'cat_Restaurants', 'cat_Robots', 'cat_Shorts', 'cat_Software', 'cat_Sound', 'cat_Spaces', 'cat_Thrillers', 'cat_Wearables', 'cat_Web', 'cat_Webseries', 'usd_goal (log)']\n",
            "SuccessfulBool: Standard DTR accuracy: 0.701890450799806\n",
            "SuccessfulBool: Bagging DTR accuracy: 0.7127968977217645\n",
            "SuccessfulBool: RFC accuracy: 0.7450315075133301\n",
            "SuccessfulBool: Adaboost accuracy: 0.7426078526417839\n",
            "SuccessfulBool: New RFC, depth 2 accuracy: 0.711100339311682\n",
            "SuccessfulBool: New RFC, depth 3 accuracy: 0.7144934561318468\n",
            "SuccessfulBool: New RFC, depth 4 accuracy: 0.7234609791565682\n",
            "SuccessfulBool: New RFC, depth 5 accuracy: 0.7389723703344644\n",
            "SuccessfulBool: New RFC, depth 6 accuracy: 0.7455162384876394\n",
            "SuccessfulBool: New RFC, depth 7 accuracy: 0.7501211827435773\n",
            "SuccessfulBool: New Adaboost, LR 5e-05 accuracy: 0.711100339311682\n",
            "SuccessfulBool: New Adaboost, LR 0.0001 accuracy: 0.711100339311682\n",
            "SuccessfulBool: New Adaboost, LR 0.0005 accuracy: 0.711100339311682\n",
            "SuccessfulBool: New Adaboost, LR 0.001 accuracy: 0.711100339311682\n",
            "SuccessfulBool: New Adaboost, LR 0.005 accuracy: 0.711100339311682\n",
            "SuccessfulBool: New Adaboost, LR 0.01 accuracy: 0.711100339311682\n",
            "SuccessfulBool: New Adaboost, LR 0.05 accuracy: 0.711100339311682\n",
            "SuccessfulBool: New Adaboost, LR 0.1 accuracy: 0.711100339311682\n",
            "SuccessfulBool: New Adaboost, LR 0.5 accuracy: 0.7426078526417839\n",
            "\n",
            "Best model: RandomForestClassifier with accuracy 0.7501\n"
          ]
        }
      ],
      "execution_count": 12
    },
    {
      "metadata": {
        "ExecuteTime": {
          "end_time": "2025-05-04T19:56:31.163725Z",
          "start_time": "2025-05-04T19:56:31.162066Z"
        },
        "colab": {
          "base_uri": "https://localhost:8080/"
        },
        "id": "1353365810535118",
        "outputId": "236a7bda-c3f0-4195-81bd-1a26c5a83801"
      },
      "cell_type": "code",
      "source": [
        "print(best_model)\n",
        "print(features)"
      ],
      "id": "1353365810535118",
      "outputs": [
        {
          "output_type": "stream",
          "name": "stdout",
          "text": [
            "RandomForestClassifier(max_depth=7, n_estimators=500, n_jobs=-1,\n",
            "                       random_state=42)\n",
            "['disable_communication', 'name_len', 'name_len_clean', 'blurb_len', 'blurb_len_clean', 'create_to_launch_days', 'launch_to_deadline_days', 'launch_to_state_change_days', 'USorGB', 'TOPCOUNTRY', 'LaunchedTuesday', 'DeadlineWeekend', 'usd_goal', 'cat_Academic', 'cat_Apps', 'cat_Blues', 'cat_Comedy', 'cat_Experimental', 'cat_Festivals', 'cat_Flight', 'cat_Gadgets', 'cat_Hardware', 'cat_Immersive', 'cat_Makerspaces', 'cat_Misc', 'cat_Musical', 'cat_Places', 'cat_Plays', 'cat_Restaurants', 'cat_Robots', 'cat_Shorts', 'cat_Software', 'cat_Sound', 'cat_Spaces', 'cat_Thrillers', 'cat_Wearables', 'cat_Web', 'cat_Webseries', 'usd_goal (log)']\n"
          ]
        }
      ],
      "execution_count": 13
    },
    {
      "metadata": {
        "ExecuteTime": {
          "end_time": "2025-05-04T19:56:31.266338Z",
          "start_time": "2025-05-04T19:56:31.198914Z"
        },
        "colab": {
          "base_uri": "https://localhost:8080/"
        },
        "id": "83b4fcda2f5af2d6",
        "outputId": "84425e76-ee96-4aa6-ab6f-76d3ddee6957"
      },
      "cell_type": "code",
      "source": [
        "y_pred = best_model.predict(preX[features])\n",
        "acc = accuracy_score(prey, y_pred)\n",
        "print(f\"Accuracy: {acc}\")"
      ],
      "id": "83b4fcda2f5af2d6",
      "outputs": [
        {
          "output_type": "stream",
          "name": "stdout",
          "text": [
            "Accuracy: 0.7642410432927716\n"
          ]
        }
      ],
      "execution_count": 14
    },
    {
      "metadata": {
        "ExecuteTime": {
          "end_time": "2025-05-04T19:56:31.287709Z",
          "start_time": "2025-05-04T19:56:31.286053Z"
        },
        "id": "2a19fdf1ddea9874"
      },
      "cell_type": "code",
      "source": [
        "if isinstance(best_model, DecisionTreeClassifier):\n",
        "    plt.figure(figsize=(200, 100))\n",
        "    tree.plot_tree(best_model, feature_names=features, filled=True)\n",
        "    plt.show()"
      ],
      "id": "2a19fdf1ddea9874",
      "outputs": [],
      "execution_count": null
    },
    {
      "metadata": {
        "ExecuteTime": {
          "end_time": "2025-05-04T19:56:31.305109Z",
          "start_time": "2025-05-04T19:56:31.303976Z"
        },
        "id": "d134a51539a3abe"
      },
      "cell_type": "code",
      "source": [],
      "id": "d134a51539a3abe",
      "outputs": [],
      "execution_count": null
    }
  ],
  "metadata": {
    "kernelspec": {
      "display_name": "Python 3",
      "language": "python",
      "name": "python3"
    },
    "language_info": {
      "codemirror_mode": {
        "name": "ipython",
        "version": 2
      },
      "file_extension": ".py",
      "mimetype": "text/x-python",
      "name": "python",
      "nbconvert_exporter": "python",
      "pygments_lexer": "ipython2",
      "version": "2.7.6"
    },
    "colab": {
      "provenance": []
    }
  },
  "nbformat": 4,
  "nbformat_minor": 5
}