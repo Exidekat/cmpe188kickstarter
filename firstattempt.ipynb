{
  "cells": [
    {
      "cell_type": "code",
      "id": "initial_id",
      "metadata": {
        "collapsed": true,
        "ExecuteTime": {
          "end_time": "2025-05-04T19:55:28.216678Z",
          "start_time": "2025-05-04T19:55:28.213708Z"
        },
        "id": "initial_id"
      },
      "source": [
        "import numpy as np\n",
        "import pandas as pd\n",
        "import seaborn as sns\n",
        "import matplotlib.pyplot as plt\n",
        "from sklearn.svm import SVC\n",
        "from sklearn.ensemble import BaggingClassifier, RandomForestClassifier, AdaBoostClassifier\n",
        "from sklearn.feature_selection import RFE\n",
        "from sklearn.linear_model import LinearRegression\n",
        "from sklearn.metrics import accuracy_score, confusion_matrix, classification_report, precision_score, recall_score, f1_score\n",
        "from sklearn.model_selection import cross_val_score, train_test_split\n",
        "from sklearn.linear_model import Ridge\n",
        "from sklearn.tree import DecisionTreeClassifier\n",
        "from sklearn import tree\n",
        "from sklearn.preprocessing import StandardScaler\n",
        "\n",
        "\n",
        "SHOW_DECISION_TREES = False"
      ],
      "outputs": [],
      "execution_count": 23
    },
    {
      "metadata": {
        "ExecuteTime": {
          "end_time": "2025-05-04T19:55:29.082043Z",
          "start_time": "2025-05-04T19:55:28.241459Z"
        },
        "colab": {
          "base_uri": "https://localhost:8080/"
        },
        "id": "2a9e610aa6c99a83",
        "outputId": "baf628f2-a77d-459a-9094-f80d81c8a275"
      },
      "cell_type": "code",
      "source": [
        "df = pd.read_csv(\"/content/post_eda.csv\")\n",
        "#print(df['Unnamed: 0'])\n",
        "df.drop(columns=[\"Unnamed: 0\"], inplace=True)\n",
        "print(df.columns)"
      ],
      "id": "2a9e610aa6c99a83",
      "outputs": [
        {
          "output_type": "stream",
          "name": "stdout",
          "text": [
            "Index(['name', 'blurb', 'disable_communication', 'country', 'deadline',\n",
            "       'created_at', 'launched_at', 'staff_pick', 'backers_count',\n",
            "       'usd_pledged', 'spotlight', 'name_len', 'name_len_clean', 'blurb_len',\n",
            "       'blurb_len_clean', 'create_to_launch_days', 'launch_to_deadline_days',\n",
            "       'launch_to_state_change_days', 'SuccessfulBool', 'USorGB', 'TOPCOUNTRY',\n",
            "       'LaunchedTuesday', 'DeadlineWeekend', 'usd_goal', 'cat_Academic',\n",
            "       'cat_Apps', 'cat_Blues', 'cat_Comedy', 'cat_Experimental',\n",
            "       'cat_Festivals', 'cat_Flight', 'cat_Gadgets', 'cat_Hardware',\n",
            "       'cat_Immersive', 'cat_Makerspaces', 'cat_Misc', 'cat_Musical',\n",
            "       'cat_Places', 'cat_Plays', 'cat_Restaurants', 'cat_Robots',\n",
            "       'cat_Shorts', 'cat_Software', 'cat_Sound', 'cat_Spaces',\n",
            "       'cat_Thrillers', 'cat_Wearables', 'cat_Web', 'cat_Webseries',\n",
            "       'usd_goal (log)'],\n",
            "      dtype='object')\n"
          ]
        }
      ],
      "execution_count": 2
    },
    {
      "metadata": {
        "ExecuteTime": {
          "end_time": "2025-05-04T19:55:29.107400Z",
          "start_time": "2025-05-04T19:55:29.102092Z"
        },
        "id": "ea1e42a78100636e"
      },
      "cell_type": "code",
      "source": [
        "label_col = 'SuccessfulBool'\n",
        "#numerical_data = df.select_dtypes(include=['number'])\n",
        "numerical_data = df.select_dtypes(include=['number', 'bool'])\n",
        "numerical_data.dropna(inplace=True)\n",
        "preX = numerical_data.drop(columns=[label_col])\n",
        "prey = numerical_data[label_col]"
      ],
      "id": "ea1e42a78100636e",
      "outputs": [],
      "execution_count": 3
    },
    {
      "cell_type": "code",
      "source": [
        "preX.columns"
      ],
      "metadata": {
        "colab": {
          "base_uri": "https://localhost:8080/"
        },
        "id": "RuZAxqBRKTBG",
        "outputId": "12c41abb-ba1c-4960-b7df-439b400cab36"
      },
      "id": "RuZAxqBRKTBG",
      "execution_count": 4,
      "outputs": [
        {
          "output_type": "execute_result",
          "data": {
            "text/plain": [
              "Index(['disable_communication', 'staff_pick', 'backers_count', 'usd_pledged',\n",
              "       'spotlight', 'name_len', 'name_len_clean', 'blurb_len',\n",
              "       'blurb_len_clean', 'create_to_launch_days', 'launch_to_deadline_days',\n",
              "       'launch_to_state_change_days', 'USorGB', 'TOPCOUNTRY',\n",
              "       'LaunchedTuesday', 'DeadlineWeekend', 'usd_goal', 'cat_Academic',\n",
              "       'cat_Apps', 'cat_Blues', 'cat_Comedy', 'cat_Experimental',\n",
              "       'cat_Festivals', 'cat_Flight', 'cat_Gadgets', 'cat_Hardware',\n",
              "       'cat_Immersive', 'cat_Makerspaces', 'cat_Misc', 'cat_Musical',\n",
              "       'cat_Places', 'cat_Plays', 'cat_Restaurants', 'cat_Robots',\n",
              "       'cat_Shorts', 'cat_Software', 'cat_Sound', 'cat_Spaces',\n",
              "       'cat_Thrillers', 'cat_Wearables', 'cat_Web', 'cat_Webseries',\n",
              "       'usd_goal (log)'],\n",
              "      dtype='object')"
            ]
          },
          "metadata": {},
          "execution_count": 4
        }
      ]
    },
    {
      "cell_type": "code",
      "source": [
        "std_features = ['name_len', 'name_len_clean', 'blurb_len', 'blurb_len_clean',\n",
        "                'create_to_launch_days', 'launch_to_deadline_days',\n",
        "                'launch_to_state_change_days', 'usd_goal (log)']\n",
        "scaler = StandardScaler()\n",
        "preX[std_features] = scaler.fit_transform(preX[std_features])"
      ],
      "metadata": {
        "id": "j7ARpRvS2oXe"
      },
      "id": "j7ARpRvS2oXe",
      "execution_count": 7,
      "outputs": []
    },
    {
      "metadata": {
        "ExecuteTime": {
          "end_time": "2025-05-04T19:55:49.535652Z",
          "start_time": "2025-05-04T19:55:29.122116Z"
        },
        "colab": {
          "base_uri": "https://localhost:8080/",
          "height": 599
        },
        "id": "4271c69e5f23fff2",
        "outputId": "45796594-fc23-4a81-a48b-439c26968cfe"
      },
      "cell_type": "code",
      "source": [
        "# Initialize the decision tree classifier model\n",
        "model = DecisionTreeClassifier(random_state=42)\n",
        "\n",
        "# Try different feature counts and evaluate model performance\n",
        "num_features = list(range(1, len(preX.columns) + 1))\n",
        "cv_scores = []\n",
        "\n",
        "for n in num_features:\n",
        "    # Perform Recursive Feature Elimination (RFE) with n selected features\n",
        "    rfe = RFE(model, n_features_to_select=n)\n",
        "    rfe.fit(preX, prey)  # Fit RFE to data\n",
        "\n",
        "    # Compute cross-validation score (accuracy for classification)\n",
        "    score = np.mean(cross_val_score(model, rfe.transform(preX), prey, cv=5, scoring=\"accuracy\"))\n",
        "    cv_scores.append(1 - score)  # Convert to error rate (1 - accuracy)\n",
        "\n",
        "# Determine the optimal number of features\n",
        "optimal_num_features = num_features[np.argmin(cv_scores)]\n",
        "\n",
        "# Fit RFE with the optimal number of features\n",
        "rfe_optimal = RFE(model, n_features_to_select=optimal_num_features)\n",
        "rfe_optimal.fit(preX, prey)\n",
        "\n",
        "# Extract selected features\n",
        "optimal_features = list(preX.columns[rfe_optimal.support_])\n",
        "print(f\"Optimal number of features: {optimal_num_features}\")\n",
        "print(f\"Selected optimal features: {optimal_features}\")\n",
        "\n",
        "# Plot Number of Features vs. Validation Error\n",
        "plt.figure(figsize=(8, 6))\n",
        "plt.plot(num_features, cv_scores, marker=\"o\", linestyle=\"-\", color=\"b\")\n",
        "plt.axvline(optimal_num_features, color='r', linestyle=\"--\", label=f\"Optimal Features: {optimal_num_features}\")\n",
        "plt.xlabel(\"Number of Features\")\n",
        "plt.ylabel(\"Cross-Validated Error Rate (1 - Accuracy)\")\n",
        "plt.title(\"Determining the Optimal Number of Features using Decision Tree\")\n",
        "plt.legend()\n",
        "plt.grid()\n",
        "plt.show()"
      ],
      "id": "4271c69e5f23fff2",
      "outputs": [
        {
          "output_type": "stream",
          "name": "stdout",
          "text": [
            "Optimal number of features: 1\n",
            "Selected optimal features: ['spotlight']\n"
          ]
        },
        {
          "output_type": "display_data",
          "data": {
            "text/plain": [
              "<Figure size 800x600 with 1 Axes>"
            ],
            "image/png": "[encoded data removed]"
          },
          "metadata": {}
        }
      ],
      "execution_count": 8
    },
    {
      "metadata": {
        "ExecuteTime": {
          "end_time": "2025-05-04T19:55:49.571326Z",
          "start_time": "2025-05-04T19:55:49.560292Z"
        },
        "colab": {
          "base_uri": "https://localhost:8080/"
        },
        "id": "d60dd75561d19a9b",
        "outputId": "d6ec0ad6-a5b0-4dac-d4e5-6f71d487f805"
      },
      "cell_type": "code",
      "source": [
        "# Split data randomly into train and validation sets, fit a model to the train set\n",
        "X_train, X_test, y_train, y_test = train_test_split(preX, prey, test_size=0.15, random_state=42, shuffle=True)\n",
        "\n",
        "# We'll use Ridge Regression (L2 Regularization)\n",
        "mlr = Ridge(alpha=1.0)  # Adjust alpha for more/less regularization (too lazy to automate hyperparameter tuning atm)\n",
        "mlr.fit(X_train, y_train)\n",
        "\n",
        "# Print model Coefficients\n",
        "mlr_coefficients = pd.Series(mlr.coef_, index=preX.columns)\n",
        "print(\"Model Coefficients:\")\n",
        "print(mlr_coefficients)"
      ],
      "id": "d60dd75561d19a9b",
      "outputs": [
        {
          "output_type": "stream",
          "name": "stdout",
          "text": [
            "Model Coefficients:\n",
            "disable_communication         -6.894333e-05\n",
            "staff_pick                     1.641693e-04\n",
            "backers_count                  4.619878e-09\n",
            "usd_pledged                    2.324047e-10\n",
            "spotlight                      9.995793e-01\n",
            "name_len                       8.923542e-06\n",
            "name_len_clean                 9.635495e-06\n",
            "blurb_len                     -1.229024e-05\n",
            "blurb_len_clean                9.799436e-06\n",
            "create_to_launch_days          3.241717e-07\n",
            "launch_to_deadline_days       -3.439543e-05\n",
            "launch_to_state_change_days    3.814023e-05\n",
            "USorGB                         1.604002e-05\n",
            "TOPCOUNTRY                     6.053264e-06\n",
            "LaunchedTuesday                1.128591e-05\n",
            "DeadlineWeekend               -5.229026e-06\n",
            "usd_goal                       3.178183e-12\n",
            "cat_Academic                  -1.166504e-04\n",
            "cat_Apps                      -1.302342e-05\n",
            "cat_Blues                      1.444855e-04\n",
            "cat_Comedy                    -5.183115e-05\n",
            "cat_Experimental               4.730919e-05\n",
            "cat_Festivals                  7.554883e-05\n",
            "cat_Flight                    -5.046444e-05\n",
            "cat_Gadgets                   -6.724950e-06\n",
            "cat_Hardware                   2.399060e-06\n",
            "cat_Immersive                  3.464412e-05\n",
            "cat_Makerspaces                8.320025e-06\n",
            "cat_Misc                       8.956321e-06\n",
            "cat_Musical                    5.850222e-05\n",
            "cat_Places                    -1.469891e-04\n",
            "cat_Plays                      7.380242e-05\n",
            "cat_Restaurants                3.759197e-07\n",
            "cat_Robots                    -8.689287e-06\n",
            "cat_Shorts                     2.500089e-04\n",
            "cat_Software                  -6.005536e-05\n",
            "cat_Sound                      1.761622e-06\n",
            "cat_Spaces                     5.718862e-05\n",
            "cat_Thrillers                 -1.112637e-04\n",
            "cat_Wearables                 -4.686365e-07\n",
            "cat_Web                       -7.547442e-05\n",
            "cat_Webseries                 -1.216679e-04\n",
            "usd_goal (log)                -4.995539e-05\n",
            "dtype: float64\n"
          ]
        },
        {
          "output_type": "stream",
          "name": "stderr",
          "text": [
            "/usr/local/lib/python3.11/dist-packages/sklearn/linear_model/_ridge.py:215: LinAlgWarning: Ill-conditioned matrix (rcond=2.98036e-17): result may not be accurate.\n",
            "  return linalg.solve(A, Xy, assume_a=\"pos\", overwrite_a=True).T\n"
          ]
        }
      ],
      "execution_count": 9
    },
    {
      "metadata": {
        "ExecuteTime": {
          "end_time": "2025-05-04T19:55:49.587040Z",
          "start_time": "2025-05-04T19:55:49.580342Z"
        },
        "id": "3aa4dd71c798c5fa"
      },
      "cell_type": "code",
      "source": [
        "def evaluate_classifiers(X, y, cv=5):\n",
        "    # Model testing from Ensemble assignment with cross-validation\n",
        "    features = [x for x in X.columns]\n",
        "    print(f\"Features: {features}\")\n",
        "\n",
        "    best_acc = 0.0\n",
        "    best_clf = None\n",
        "    best_std = 0.0\n",
        "\n",
        "    # 1) Standard Decision Tree\n",
        "    tree_clf = DecisionTreeClassifier(random_state=42)\n",
        "    scores = cross_val_score(tree_clf, X, y, cv=cv, scoring='accuracy')\n",
        "    acc_tree = scores.mean()\n",
        "    std_tree = scores.std()\n",
        "    print(f\"{label_col}: Standard DTR accuracy: {acc_tree:.4f} ± {std_tree:.4f}\")\n",
        "    if acc_tree > best_acc:\n",
        "        best_acc, best_clf, best_std = acc_tree, tree_clf, std_tree\n",
        "\n",
        "    # 2) Bagging\n",
        "    bag_clf = BaggingClassifier(\n",
        "        DecisionTreeClassifier(random_state=42),\n",
        "        n_estimators=500,\n",
        "        max_samples=10,\n",
        "        bootstrap=True,\n",
        "        n_jobs=-1,\n",
        "        random_state=42\n",
        "    )\n",
        "    scores = cross_val_score(bag_clf, X, y, cv=cv, scoring='accuracy')\n",
        "    acc_bag = scores.mean()\n",
        "    std_bag = scores.std()\n",
        "    print(f\"{label_col}: Bagging DTR accuracy: {acc_bag:.4f} ± {std_bag:.4f}\")\n",
        "    if acc_bag > best_acc:\n",
        "        best_acc, best_clf, best_std = acc_bag, bag_clf, std_bag\n",
        "\n",
        "    # 3) Random Forest (default)\n",
        "    rnd_clf = RandomForestClassifier(\n",
        "        n_estimators=500,\n",
        "        max_leaf_nodes=16,\n",
        "        n_jobs=-1,\n",
        "        random_state=42\n",
        "    )\n",
        "    scores = cross_val_score(rnd_clf, X, y, cv=cv, scoring='accuracy')\n",
        "    acc_rf = scores.mean()\n",
        "    std_rf = scores.std()\n",
        "    print(f\"{label_col}: RFC accuracy: {acc_rf:.4f} ± {std_rf:.4f}\")\n",
        "    if acc_rf > best_acc:\n",
        "        best_acc, best_clf, best_std = acc_rf, rnd_clf, std_rf\n",
        "\n",
        "    # 4) AdaBoost (default)\n",
        "    ada_clf = AdaBoostClassifier(\n",
        "        DecisionTreeClassifier(max_depth=1),\n",
        "        n_estimators=200,\n",
        "        learning_rate=0.5,\n",
        "        random_state=42\n",
        "    )\n",
        "    scores = cross_val_score(ada_clf, X, y, cv=cv, scoring='accuracy')\n",
        "    acc_ada = scores.mean()\n",
        "    std_ada = scores.std()\n",
        "    print(f\"{label_col}: Adaboost accuracy: {acc_ada:.4f} ± {std_ada:.4f}\")\n",
        "    if acc_ada > best_acc:\n",
        "        best_acc, best_clf, best_std = acc_ada, ada_clf, std_ada\n",
        "\n",
        "    # 5) RFC with varying max_depth\n",
        "    for d in range(2, 8):\n",
        "        clf = RandomForestClassifier(\n",
        "            n_estimators=500,\n",
        "            max_depth=d,\n",
        "            n_jobs=-1,\n",
        "            random_state=42\n",
        "        )\n",
        "        scores = cross_val_score(clf, X, y, cv=cv, scoring='accuracy')\n",
        "        acc_d = scores.mean()\n",
        "        std_d = scores.std()\n",
        "        print(f\"{label_col}: New RFC, depth {d} accuracy: {acc_d:.4f} ± {std_d:.4f}\")\n",
        "        if acc_d > best_acc:\n",
        "            best_acc, best_clf, best_std = acc_d, clf, std_d\n",
        "\n",
        "    # 6) AdaBoost with varying learning rates\n",
        "    ada_lrs = [0.00005, 0.0001, 0.0005, 0.001, 0.005, 0.01, 0.05, 0.1, 0.5]\n",
        "    for lr in ada_lrs:\n",
        "        clf = AdaBoostClassifier(\n",
        "            DecisionTreeClassifier(max_depth=1),\n",
        "            n_estimators=200,\n",
        "            learning_rate=lr,\n",
        "            random_state=42\n",
        "        )\n",
        "        scores = cross_val_score(clf, X, y, cv=cv, scoring='accuracy')\n",
        "        acc_lr = scores.mean()\n",
        "        std_lr = scores.std()\n",
        "        print(f\"{label_col}: New Adaboost, LR {lr} accuracy: {acc_lr:.4f} ± {std_lr:.4f}\")\n",
        "        if acc_lr > best_acc:\n",
        "            best_acc, best_clf, best_std = acc_lr, clf, std_lr\n",
        "\n",
        "    print(f\"\\nBest model: {best_clf.__class__.__name__} with accuracy {best_acc:.4f} ± {best_std:.4f}\")\n",
        "\n",
        "    # Train on full dataset before returning\n",
        "    best_clf.fit(X, y)\n",
        "    return features, best_clf"
      ],
      "id": "3aa4dd71c798c5fa",
      "outputs": [],
      "execution_count": 16
    },
    {
      "metadata": {
        "ExecuteTime": {
          "end_time": "2025-05-04T19:55:55.529026Z",
          "start_time": "2025-05-04T19:55:49.632219Z"
        },
        "id": "8d526cb3a1ab14f5",
        "outputId": "1c0adc57-109d-4070-b950-ad49331b0661",
        "colab": {
          "base_uri": "https://localhost:8080/"
        }
      },
      "cell_type": "code",
      "source": [
        "# Evaluating classifiers with NO restraints on data (ie. providing backer counts & pledges)\n",
        "features, best_model = evaluate_classifiers(preX, prey)"
      ],
      "id": "8d526cb3a1ab14f5",
      "outputs": [
        {
          "output_type": "stream",
          "name": "stdout",
          "text": [
            "Features: ['disable_communication', 'staff_pick', 'backers_count', 'usd_pledged', 'spotlight', 'name_len', 'name_len_clean', 'blurb_len', 'blurb_len_clean', 'create_to_launch_days', 'launch_to_deadline_days', 'launch_to_state_change_days', 'USorGB', 'TOPCOUNTRY', 'LaunchedTuesday', 'DeadlineWeekend', 'usd_goal', 'cat_Academic', 'cat_Apps', 'cat_Blues', 'cat_Comedy', 'cat_Experimental', 'cat_Festivals', 'cat_Flight', 'cat_Gadgets', 'cat_Hardware', 'cat_Immersive', 'cat_Makerspaces', 'cat_Misc', 'cat_Musical', 'cat_Places', 'cat_Plays', 'cat_Restaurants', 'cat_Robots', 'cat_Shorts', 'cat_Software', 'cat_Sound', 'cat_Spaces', 'cat_Thrillers', 'cat_Wearables', 'cat_Web', 'cat_Webseries', 'usd_goal (log)']\n",
            "SuccessfulBool: Standard DTR accuracy: 1.0000 ± 0.0000\n",
            "SuccessfulBool: Bagging DTR accuracy: 1.0000 ± 0.0000\n",
            "SuccessfulBool: RFC accuracy: 1.0000 ± 0.0000\n",
            "SuccessfulBool: Adaboost accuracy: 1.0000 ± 0.0000\n",
            "SuccessfulBool: New RFC, depth 2 accuracy: 0.9876 ± 0.0016\n",
            "SuccessfulBool: New RFC, depth 3 accuracy: 1.0000 ± 0.0001\n",
            "SuccessfulBool: New RFC, depth 4 accuracy: 1.0000 ± 0.0000\n",
            "SuccessfulBool: New RFC, depth 5 accuracy: 1.0000 ± 0.0000\n",
            "SuccessfulBool: New RFC, depth 6 accuracy: 1.0000 ± 0.0000\n",
            "SuccessfulBool: New RFC, depth 7 accuracy: 1.0000 ± 0.0000\n",
            "SuccessfulBool: New Adaboost, LR 5e-05 accuracy: 1.0000 ± 0.0000\n",
            "SuccessfulBool: New Adaboost, LR 0.0001 accuracy: 1.0000 ± 0.0000\n",
            "SuccessfulBool: New Adaboost, LR 0.0005 accuracy: 1.0000 ± 0.0000\n",
            "SuccessfulBool: New Adaboost, LR 0.001 accuracy: 1.0000 ± 0.0000\n",
            "SuccessfulBool: New Adaboost, LR 0.005 accuracy: 1.0000 ± 0.0000\n",
            "SuccessfulBool: New Adaboost, LR 0.01 accuracy: 1.0000 ± 0.0000\n",
            "SuccessfulBool: New Adaboost, LR 0.05 accuracy: 1.0000 ± 0.0000\n",
            "SuccessfulBool: New Adaboost, LR 0.1 accuracy: 1.0000 ± 0.0000\n",
            "SuccessfulBool: New Adaboost, LR 0.5 accuracy: 1.0000 ± 0.0000\n",
            "\n",
            "Best model: DecisionTreeClassifier with accuracy 1.0000 ± 0.0000\n"
          ]
        }
      ],
      "execution_count": 17
    },
    {
      "metadata": {
        "ExecuteTime": {
          "end_time": "2025-05-04T19:56:00.472263Z",
          "start_time": "2025-05-04T19:55:55.549244Z"
        },
        "colab": {
          "base_uri": "https://localhost:8080/"
        },
        "id": "9a72e04f0fd94c7f",
        "outputId": "f140d819-6849-4d8c-9817-ef0752ec6f76"
      },
      "cell_type": "code",
      "source": [
        "# Evaluating classifiers WITHOUT backers counts & pledge information\n",
        "inaccesible_cols = ['backers_count', 'usd_pledged']\n",
        "features, best_model = evaluate_classifiers(preX.drop(columns=inaccesible_cols), prey)"
      ],
      "id": "9a72e04f0fd94c7f",
      "outputs": [
        {
          "output_type": "stream",
          "name": "stdout",
          "text": [
            "Features: ['disable_communication', 'staff_pick', 'spotlight', 'name_len', 'name_len_clean', 'blurb_len', 'blurb_len_clean', 'create_to_launch_days', 'launch_to_deadline_days', 'launch_to_state_change_days', 'USorGB', 'TOPCOUNTRY', 'LaunchedTuesday', 'DeadlineWeekend', 'usd_goal', 'cat_Academic', 'cat_Apps', 'cat_Blues', 'cat_Comedy', 'cat_Experimental', 'cat_Festivals', 'cat_Flight', 'cat_Gadgets', 'cat_Hardware', 'cat_Immersive', 'cat_Makerspaces', 'cat_Misc', 'cat_Musical', 'cat_Places', 'cat_Plays', 'cat_Restaurants', 'cat_Robots', 'cat_Shorts', 'cat_Software', 'cat_Sound', 'cat_Spaces', 'cat_Thrillers', 'cat_Wearables', 'cat_Web', 'cat_Webseries', 'usd_goal (log)']\n",
            "SuccessfulBool: Standard DTR accuracy: 1.0000 ± 0.0000\n",
            "SuccessfulBool: Bagging DTR accuracy: 1.0000 ± 0.0000\n",
            "SuccessfulBool: RFC accuracy: 1.0000 ± 0.0000\n",
            "SuccessfulBool: Adaboost accuracy: 1.0000 ± 0.0000\n",
            "SuccessfulBool: New RFC, depth 2 accuracy: 0.9060 ± 0.0053\n",
            "SuccessfulBool: New RFC, depth 3 accuracy: 0.9997 ± 0.0003\n",
            "SuccessfulBool: New RFC, depth 4 accuracy: 1.0000 ± 0.0000\n",
            "SuccessfulBool: New RFC, depth 5 accuracy: 1.0000 ± 0.0000\n",
            "SuccessfulBool: New RFC, depth 6 accuracy: 1.0000 ± 0.0000\n",
            "SuccessfulBool: New RFC, depth 7 accuracy: 1.0000 ± 0.0000\n",
            "SuccessfulBool: New Adaboost, LR 5e-05 accuracy: 1.0000 ± 0.0000\n",
            "SuccessfulBool: New Adaboost, LR 0.0001 accuracy: 1.0000 ± 0.0000\n",
            "SuccessfulBool: New Adaboost, LR 0.0005 accuracy: 1.0000 ± 0.0000\n",
            "SuccessfulBool: New Adaboost, LR 0.001 accuracy: 1.0000 ± 0.0000\n",
            "SuccessfulBool: New Adaboost, LR 0.005 accuracy: 1.0000 ± 0.0000\n",
            "SuccessfulBool: New Adaboost, LR 0.01 accuracy: 1.0000 ± 0.0000\n",
            "SuccessfulBool: New Adaboost, LR 0.05 accuracy: 1.0000 ± 0.0000\n",
            "SuccessfulBool: New Adaboost, LR 0.1 accuracy: 1.0000 ± 0.0000\n",
            "SuccessfulBool: New Adaboost, LR 0.5 accuracy: 1.0000 ± 0.0000\n",
            "\n",
            "Best model: DecisionTreeClassifier with accuracy 1.0000 ± 0.0000\n"
          ]
        }
      ],
      "execution_count": 18
    },
    {
      "metadata": {
        "ExecuteTime": {
          "end_time": "2025-05-04T19:56:31.144737Z",
          "start_time": "2025-05-04T19:56:00.488677Z"
        },
        "colab": {
          "base_uri": "https://localhost:8080/"
        },
        "id": "d433c8e44553edfa",
        "outputId": "4d282651-ef62-437a-b42d-2fbbe3ea6cb5"
      },
      "cell_type": "code",
      "source": [
        "# Evaluating classifiers WITHOUT backers counts & pledge information, and kickstarter mod information\n",
        "inaccesible_cols = ['backers_count', 'usd_pledged', 'spotlight', 'staff_pick']\n",
        "features, best_model = evaluate_classifiers(preX.drop(columns=inaccesible_cols), prey)"
      ],
      "id": "d433c8e44553edfa",
      "outputs": [
        {
          "output_type": "stream",
          "name": "stdout",
          "text": [
            "Features: ['disable_communication', 'name_len', 'name_len_clean', 'blurb_len', 'blurb_len_clean', 'create_to_launch_days', 'launch_to_deadline_days', 'launch_to_state_change_days', 'USorGB', 'TOPCOUNTRY', 'LaunchedTuesday', 'DeadlineWeekend', 'usd_goal', 'cat_Academic', 'cat_Apps', 'cat_Blues', 'cat_Comedy', 'cat_Experimental', 'cat_Festivals', 'cat_Flight', 'cat_Gadgets', 'cat_Hardware', 'cat_Immersive', 'cat_Makerspaces', 'cat_Misc', 'cat_Musical', 'cat_Places', 'cat_Plays', 'cat_Restaurants', 'cat_Robots', 'cat_Shorts', 'cat_Software', 'cat_Sound', 'cat_Spaces', 'cat_Thrillers', 'cat_Wearables', 'cat_Web', 'cat_Webseries', 'usd_goal (log)']\n",
            "SuccessfulBool: Standard DTR accuracy: 0.7029 ± 0.0097\n",
            "SuccessfulBool: Bagging DTR accuracy: 0.7124 ± 0.0016\n",
            "SuccessfulBool: RFC accuracy: 0.7501 ± 0.0044\n",
            "SuccessfulBool: Adaboost accuracy: 0.7500 ± 0.0036\n",
            "SuccessfulBool: New RFC, depth 2 accuracy: 0.7082 ± 0.0001\n",
            "SuccessfulBool: New RFC, depth 3 accuracy: 0.7120 ± 0.0022\n",
            "SuccessfulBool: New RFC, depth 4 accuracy: 0.7247 ± 0.0016\n",
            "SuccessfulBool: New RFC, depth 5 accuracy: 0.7401 ± 0.0015\n",
            "SuccessfulBool: New RFC, depth 6 accuracy: 0.7496 ± 0.0032\n",
            "SuccessfulBool: New RFC, depth 7 accuracy: 0.7554 ± 0.0036\n",
            "SuccessfulBool: New Adaboost, LR 5e-05 accuracy: 0.7082 ± 0.0001\n",
            "SuccessfulBool: New Adaboost, LR 0.0001 accuracy: 0.7082 ± 0.0001\n",
            "SuccessfulBool: New Adaboost, LR 0.0005 accuracy: 0.7082 ± 0.0001\n",
            "SuccessfulBool: New Adaboost, LR 0.001 accuracy: 0.7082 ± 0.0001\n",
            "SuccessfulBool: New Adaboost, LR 0.005 accuracy: 0.7082 ± 0.0001\n",
            "SuccessfulBool: New Adaboost, LR 0.01 accuracy: 0.7082 ± 0.0001\n",
            "SuccessfulBool: New Adaboost, LR 0.05 accuracy: 0.7082 ± 0.0001\n",
            "SuccessfulBool: New Adaboost, LR 0.1 accuracy: 0.7082 ± 0.0001\n",
            "SuccessfulBool: New Adaboost, LR 0.5 accuracy: 0.7500 ± 0.0036\n",
            "\n",
            "Best model: RandomForestClassifier with accuracy 0.7554 ± 0.0036\n"
          ]
        }
      ],
      "execution_count": 19
    },
    {
      "metadata": {
        "ExecuteTime": {
          "end_time": "2025-05-04T19:56:31.163725Z",
          "start_time": "2025-05-04T19:56:31.162066Z"
        },
        "colab": {
          "base_uri": "https://localhost:8080/"
        },
        "id": "1353365810535118",
        "outputId": "b3be3166-5943-457d-ca08-ad9f685de37f"
      },
      "cell_type": "code",
      "source": [
        "print(best_model)\n",
        "print(features)"
      ],
      "id": "1353365810535118",
      "outputs": [
        {
          "output_type": "stream",
          "name": "stdout",
          "text": [
            "RandomForestClassifier(max_depth=7, n_estimators=500, n_jobs=-1,\n",
            "                       random_state=42)\n",
            "['disable_communication', 'name_len', 'name_len_clean', 'blurb_len', 'blurb_len_clean', 'create_to_launch_days', 'launch_to_deadline_days', 'launch_to_state_change_days', 'USorGB', 'TOPCOUNTRY', 'LaunchedTuesday', 'DeadlineWeekend', 'usd_goal', 'cat_Academic', 'cat_Apps', 'cat_Blues', 'cat_Comedy', 'cat_Experimental', 'cat_Festivals', 'cat_Flight', 'cat_Gadgets', 'cat_Hardware', 'cat_Immersive', 'cat_Makerspaces', 'cat_Misc', 'cat_Musical', 'cat_Places', 'cat_Plays', 'cat_Restaurants', 'cat_Robots', 'cat_Shorts', 'cat_Software', 'cat_Sound', 'cat_Spaces', 'cat_Thrillers', 'cat_Wearables', 'cat_Web', 'cat_Webseries', 'usd_goal (log)']\n"
          ]
        }
      ],
      "execution_count": 20
    },
    {
      "metadata": {
        "ExecuteTime": {
          "end_time": "2025-05-04T19:56:31.266338Z",
          "start_time": "2025-05-04T19:56:31.198914Z"
        },
        "colab": {
          "base_uri": "https://localhost:8080/"
        },
        "id": "83b4fcda2f5af2d6",
        "outputId": "46b4ea72-0fa9-4906-b1db-67dfcbee9ae7"
      },
      "cell_type": "code",
      "source": [
        "y_pred = best_model.predict(preX[features])\n",
        "acc = accuracy_score(prey, y_pred)\n",
        "print(f\"Accuracy: {acc}\")"
      ],
      "id": "83b4fcda2f5af2d6",
      "outputs": [
        {
          "output_type": "stream",
          "name": "stdout",
          "text": [
            "Accuracy: 0.7635138410820769\n"
          ]
        }
      ],
      "execution_count": 21
    },
    {
      "metadata": {
        "ExecuteTime": {
          "end_time": "2025-05-04T19:56:31.287709Z",
          "start_time": "2025-05-04T19:56:31.286053Z"
        },
        "id": "2a19fdf1ddea9874",
        "colab": {
          "base_uri": "https://localhost:8080/",
          "height": 902
        },
        "outputId": "39147827-aca1-49ce-eda8-a4387365a427"
      },
      "cell_type": "code",
      "source": [
        "def evaluate_best_model(best_model, X, y, test_size=0.2):\n",
        "\n",
        "    X_train, X_test, y_train, y_test = train_test_split(X, y, test_size=test_size, random_state=42)\n",
        "\n",
        "    best_model.fit(X_train, y_train)\n",
        "\n",
        "    # Make predictions on test data\n",
        "    y_pred = best_model.predict(X_test)\n",
        "\n",
        "    cm = confusion_matrix(y_test, y_pred)\n",
        "\n",
        "    precision = precision_score(y_test, y_pred)\n",
        "    recall = recall_score(y_test, y_pred)\n",
        "    f1 = f1_score(y_test, y_pred)\n",
        "\n",
        "    # Display results\n",
        "    print(f\"\\nModel Evaluation on Test Set:\")\n",
        "    print(f\"Accuracy: {accuracy_score(y_test, y_pred):.4f}\")\n",
        "    print(f\"Precision: {precision:.4f}\")\n",
        "    print(f\"Recall: {recall:.4f}\")\n",
        "    print(f\"F1 Score: {f1:.4f}\")\n",
        "\n",
        "    # Display confusion matrix\n",
        "    plt.figure(figsize=(8, 6))\n",
        "    sns.heatmap(cm, annot=True, fmt='d', cmap='Blues', cbar=False)\n",
        "    plt.title('Confusion Matrix')\n",
        "    plt.ylabel('True Label')\n",
        "    plt.xlabel('Predicted Label')\n",
        "    plt.tight_layout()\n",
        "    plt.show()\n",
        "\n",
        "    print(\"\\nClassification Report:\")\n",
        "    print(classification_report(y_test, y_pred))\n",
        "\n",
        "    return y_test, y_pred\n",
        "\n",
        "\n",
        "# Then call the evaluation function\n",
        "y_test, y_pred = evaluate_best_model(best_model, preX[features], prey)"
      ],
      "id": "2a19fdf1ddea9874",
      "outputs": [
        {
          "output_type": "stream",
          "name": "stdout",
          "text": [
            "\n",
            "Model Evaluation on Test Set:\n",
            "Accuracy: 0.7550\n",
            "Precision: 0.7195\n",
            "Recall: 0.2763\n",
            "F1 Score: 0.3993\n"
          ]
        },
        {
          "output_type": "display_data",
          "data": {
            "text/plain": [
              "<Figure size 800x600 with 1 Axes>"
            ],
            "image/png": "[encoded data removed]"
          },
          "metadata": {}
        },
        {
          "output_type": "stream",
          "name": "stdout",
          "text": [
            "\n",
            "Classification Report:\n",
            "              precision    recall  f1-score   support\n",
            "\n",
            "           0       0.76      0.95      0.85      2910\n",
            "           1       0.72      0.28      0.40      1216\n",
            "\n",
            "    accuracy                           0.75      4126\n",
            "   macro avg       0.74      0.62      0.62      4126\n",
            "weighted avg       0.75      0.75      0.71      4126\n",
            "\n"
          ]
        }
      ],
      "execution_count": 24
    },
    {
      "metadata": {
        "ExecuteTime": {
          "end_time": "2025-05-04T19:56:31.305109Z",
          "start_time": "2025-05-04T19:56:31.303976Z"
        },
        "id": "d134a51539a3abe"
      },
      "cell_type": "code",
      "source": [],
      "id": "d134a51539a3abe",
      "outputs": [],
      "execution_count": null
    }
  ],
  "metadata": {
    "kernelspec": {
      "display_name": "Python 3",
      "language": "python",
      "name": "python3"
    },
    "language_info": {
      "codemirror_mode": {
        "name": "ipython",
        "version": 2
      },
      "file_extension": ".py",
      "mimetype": "text/x-python",
      "name": "python",
      "nbconvert_exporter": "python",
      "pygments_lexer": "ipython2",
      "version": "2.7.6"
    },
    "colab": {
      "provenance": []
    }
  },
  "nbformat": 4,
  "nbformat_minor": 5
}