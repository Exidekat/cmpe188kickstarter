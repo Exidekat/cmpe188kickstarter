{
 "cells": [
  {
   "metadata": {
    "ExecuteTime": {
     "end_time": "2025-05-04T19:54:18.269048Z",
     "start_time": "2025-05-04T19:54:18.266304Z"
    }
   },
   "cell_type": "code",
   "source": [
    "import numpy as np\n",
    "import pandas as pd\n",
    "import seaborn as sns\n",
    "import matplotlib.pyplot as plt\n",
    "\n",
    "import nltk\n",
    "# first time only: download the VADER lexicon\n",
    "nltk.download('vader_lexicon')\n",
    "\n",
    "from nltk.sentiment import SentimentIntensityAnalyzer"
   ],
   "id": "88165214657dbf19",
   "outputs": [
    {
     "name": "stderr",
     "output_type": "stream",
     "text": [
      "[nltk_data] Downloading package vader_lexicon to\n",
      "[nltk_data]     /Users/exide/nltk_data...\n",
      "[nltk_data]   Package vader_lexicon is already up-to-date!\n"
     ]
    }
   ],
   "execution_count": 22
  },
  {
   "metadata": {
    "ExecuteTime": {
     "end_time": "2025-05-04T19:54:19.102210Z",
     "start_time": "2025-05-04T19:54:18.286985Z"
    }
   },
   "cell_type": "code",
   "source": [
    "df = pd.read_csv(\"data/post_sharktank.csv\")\n",
    "#print(df['Unnamed: 0'])\n",
    "df.drop(columns=[\"Unnamed: 0\"], inplace=True)\n",
    "print(df.columns)"
   ],
   "id": "cf979fc4d4b71584",
   "outputs": [
    {
     "name": "stdout",
     "output_type": "stream",
     "text": [
      "Index(['name', 'blurb', 'disable_communication', 'country', 'deadline',\n",
      "       'created_at', 'launched_at', 'staff_pick', 'backers_count',\n",
      "       'usd_pledged', 'spotlight', 'name_len', 'name_len_clean', 'blurb_len',\n",
      "       'blurb_len_clean', 'create_to_launch_days', 'launch_to_deadline_days',\n",
      "       'launch_to_state_change_days', 'SuccessfulBool', 'USorGB', 'TOPCOUNTRY',\n",
      "       'LaunchedTuesday', 'DeadlineWeekend', 'usd_goal', 'cat_Academic',\n",
      "       'cat_Apps', 'cat_Blues', 'cat_Comedy', 'cat_Experimental',\n",
      "       'cat_Festivals', 'cat_Flight', 'cat_Gadgets', 'cat_Hardware',\n",
      "       'cat_Immersive', 'cat_Makerspaces', 'cat_Misc', 'cat_Musical',\n",
      "       'cat_Places', 'cat_Plays', 'cat_Restaurants', 'cat_Robots',\n",
      "       'cat_Shorts', 'cat_Software', 'cat_Sound', 'cat_Spaces',\n",
      "       'cat_Thrillers', 'cat_Wearables', 'cat_Web', 'cat_Webseries',\n",
      "       'usd_goal (log)', 'sharktank_wonderful', 'sharktank_wonderful_eval',\n",
      "       'sharktank_daymond', 'sharktank_daymond_eval', 'sharktank_barbara',\n",
      "       'sharktank_barbara_eval', 'sharktank_mark', 'sharktank_mark_eval'],\n",
      "      dtype='object')\n"
     ]
    }
   ],
   "execution_count": 23
  },
  {
   "metadata": {
    "ExecuteTime": {
     "end_time": "2025-05-04T19:54:19.120189Z",
     "start_time": "2025-05-04T19:54:19.113406Z"
    }
   },
   "cell_type": "code",
   "source": [
    "eval_cols = ['sharktank_wonderful_eval', 'sharktank_daymond_eval', 'sharktank_barbara_eval', 'sharktank_mark_eval']\n",
    "\n",
    "# if any value is greater than 10 or less than 0, replace with NaN\n",
    "for col in eval_cols:\n",
    "    df[col] = df[col].where((df[col] >= 0) & (df[col] <= 10), np.nan)\n",
    "\n",
    "# interpolate the average value accross all 4 columns\n",
    "row_mean = df[eval_cols].mean(axis=1)\n",
    "print(row_mean)\n",
    "\n",
    "# use that average to replace the NaNs\n",
    "for col in eval_cols:\n",
    "    df[col] = df[col].fillna(row_mean)"
   ],
   "id": "8bb08c11c5ae22cc",
   "outputs": [
    {
     "name": "stdout",
     "output_type": "stream",
     "text": [
      "0        7.617429\n",
      "1        5.183316\n",
      "2        6.790570\n",
      "3        4.655704\n",
      "4        6.059008\n",
      "           ...   \n",
      "20627    5.940384\n",
      "20628    4.386917\n",
      "20629    6.381973\n",
      "20630    5.310835\n",
      "20631    5.078759\n",
      "Length: 20632, dtype: float64\n"
     ]
    }
   ],
   "execution_count": 24
  },
  {
   "metadata": {
    "ExecuteTime": {
     "end_time": "2025-05-04T19:55:21.278327Z",
     "start_time": "2025-05-04T19:54:19.128926Z"
    }
   },
   "cell_type": "code",
   "source": [
    "# instantiate the analyzer\n",
    "sia = SentimentIntensityAnalyzer()\n",
    "\n",
    "# list of columns to score\n",
    "cols_to_analyze = [\n",
    "    'blurb',\n",
    "    'sharktank_wonderful',\n",
    "    'sharktank_daymond',\n",
    "    'sharktank_barbara',\n",
    "    'sharktank_mark'\n",
    "]\n",
    "\n",
    "# apply sentiment analysis and store the compound score\n",
    "for col in cols_to_analyze:\n",
    "    sentiment_col = f\"{col}_sentiment\"\n",
    "    df[sentiment_col] = (\n",
    "        df[col]\n",
    "        .fillna('')  # avoid errors on NaN\n",
    "        .apply(lambda txt: sia.polarity_scores(txt)['compound'])\n",
    "    )\n"
   ],
   "id": "57b2e47d441612b9",
   "outputs": [],
   "execution_count": 25
  },
  {
   "metadata": {
    "ExecuteTime": {
     "end_time": "2025-05-04T19:55:22.465216Z",
     "start_time": "2025-05-04T19:55:21.287985Z"
    }
   },
   "cell_type": "code",
   "source": [
    "# Save post-sentiment data\n",
    "print(df.columns)\n",
    "df = df.sample(frac=1).reset_index(drop=True) # shuffle!\n",
    "df.to_csv(\"data/post_sentiment.csv\")"
   ],
   "id": "9db498b54c86a591",
   "outputs": [
    {
     "name": "stdout",
     "output_type": "stream",
     "text": [
      "Index(['name', 'blurb', 'disable_communication', 'country', 'deadline',\n",
      "       'created_at', 'launched_at', 'staff_pick', 'backers_count',\n",
      "       'usd_pledged', 'spotlight', 'name_len', 'name_len_clean', 'blurb_len',\n",
      "       'blurb_len_clean', 'create_to_launch_days', 'launch_to_deadline_days',\n",
      "       'launch_to_state_change_days', 'SuccessfulBool', 'USorGB', 'TOPCOUNTRY',\n",
      "       'LaunchedTuesday', 'DeadlineWeekend', 'usd_goal', 'cat_Academic',\n",
      "       'cat_Apps', 'cat_Blues', 'cat_Comedy', 'cat_Experimental',\n",
      "       'cat_Festivals', 'cat_Flight', 'cat_Gadgets', 'cat_Hardware',\n",
      "       'cat_Immersive', 'cat_Makerspaces', 'cat_Misc', 'cat_Musical',\n",
      "       'cat_Places', 'cat_Plays', 'cat_Restaurants', 'cat_Robots',\n",
      "       'cat_Shorts', 'cat_Software', 'cat_Sound', 'cat_Spaces',\n",
      "       'cat_Thrillers', 'cat_Wearables', 'cat_Web', 'cat_Webseries',\n",
      "       'usd_goal (log)', 'sharktank_wonderful', 'sharktank_wonderful_eval',\n",
      "       'sharktank_daymond', 'sharktank_daymond_eval', 'sharktank_barbara',\n",
      "       'sharktank_barbara_eval', 'sharktank_mark', 'sharktank_mark_eval',\n",
      "       'blurb_sentiment', 'sharktank_wonderful_sentiment',\n",
      "       'sharktank_daymond_sentiment', 'sharktank_barbara_sentiment',\n",
      "       'sharktank_mark_sentiment'],\n",
      "      dtype='object')\n"
     ]
    }
   ],
   "execution_count": 26
  },
  {
   "metadata": {
    "ExecuteTime": {
     "end_time": "2025-05-04T19:55:22.475343Z",
     "start_time": "2025-05-04T19:55:22.474132Z"
    }
   },
   "cell_type": "code",
   "source": "",
   "id": "3412ab69769b230f",
   "outputs": [],
   "execution_count": null
  }
 ],
 "metadata": {
  "kernelspec": {
   "name": "python3",
   "language": "python",
   "display_name": "Python 3 (ipykernel)"
  }
 },
 "nbformat": 5,
 "nbformat_minor": 9
}
