{
 "cells": [
  {
   "metadata": {},
   "cell_type": "code",
   "source": [
    "import numpy as np\n",
    "import pandas as pd\n",
    "import seaborn as sns\n",
    "import matplotlib.pyplot as plt"
   ],
   "id": "88165214657dbf19",
   "outputs": [],
   "execution_count": null
  },
  {
   "metadata": {},
   "cell_type": "code",
   "source": [
    "df = pd.read_csv(\"data/post_sharktank.csv\")\n",
    "#print(df['Unnamed: 0'])\n",
    "df.drop(columns=[\"Unnamed: 0\"], inplace=True)\n",
    "print(df.columns)"
   ],
   "id": "cf979fc4d4b71584",
   "outputs": [],
   "execution_count": null
  },
  {
   "metadata": {},
   "cell_type": "code",
   "source": [
    "pitch_cols = ['name', 'blurb', 'SuccessfulBool']\n",
    "pitch_df = df[pitch_cols]\n",
    "\n",
    "#count = 0\n",
    "blurb_sentiment = pd.Series\n",
    "for row in pitch_df.iterrows():\n",
    "    #count += 1\n",
    "    #if count > 100:\n",
    "    #    break\n",
    "\n",
    "    name = row[1]['name']\n",
    "    blurb = row[1]['blurb']\n",
    "    result = \"SUCCESS\" if row[1]['SuccessfulBool'] else \"FAILURE\"\n",
    "\n",
    "    pitch = f\"\"\"\n",
    "    {name}\n",
    "    {blurb}\n",
    "    \"\"\"\n",
    "\n",
    "    print(pitch)\n",
    "\n",
    "    print()\n"
   ],
   "id": "57b2e47d441612b9",
   "outputs": [],
   "execution_count": null
  },
  {
   "metadata": {},
   "cell_type": "code",
   "source": [
    "# Save post Sentiment data\n",
    "print(df.columns)\n",
    "df = df.sample(frac=1).reset_index(drop=True) # shuffle!\n",
    "df.to_csv(\"data/post_sentiment.csv\")"
   ],
   "id": "9db498b54c86a591",
   "outputs": [],
   "execution_count": null
  }
 ],
 "metadata": {
  "kernelspec": {
   "name": "python3",
   "language": "python",
   "display_name": "Python 3 (ipykernel)"
  }
 },
 "nbformat": 5,
 "nbformat_minor": 9
}
